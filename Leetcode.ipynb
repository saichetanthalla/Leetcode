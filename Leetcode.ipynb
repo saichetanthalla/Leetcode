{
 "cells": [
  {
   "cell_type": "code",
   "execution_count": null,
   "id": "f0f334e6",
   "metadata": {},
   "outputs": [],
   "source": [
    "a=[0,1,2,3,5,7,9]\n",
    "x=3\n",
    "for i in range(len(a)):\n",
    "#     print(a[i])\n",
    "    for j in range(len(a)):\n",
    "        if i==j:\n",
    "            pass\n",
    "        if a[i]+a[j]==x:\n",
    "#             print(i)\n",
    "            print(a[i],a[j])       \n",
    "#         break"
   ]
  },
  {
   "cell_type": "code",
   "execution_count": 54,
   "id": "f8bf2e1a",
   "metadata": {},
   "outputs": [
    {
     "name": "stdout",
     "output_type": "stream",
     "text": [
      "{2: 'is', 4: 'sentence', 1: 'This', 3: 'a'}\n",
      "This \n",
      "This is \n",
      "This is a \n",
      "This is a sentence \n"
     ]
    }
   ],
   "source": [
    "x=\"is2 sentence4 This1 a3\"\n",
    "y=x.split()\n",
    "dicto={}\n",
    "out=''\n",
    "for i in y:\n",
    "    dicto[int(i[-1])]=i[:-1]\n",
    "print(dicto)\n",
    "for j in range(1,len(x.split())+1):\n",
    "    out+=dicto[j]+\" \"\n",
    "    print(out)"
   ]
  },
  {
   "cell_type": "code",
   "execution_count": 45,
   "id": "dddd7a62",
   "metadata": {},
   "outputs": [
    {
     "data": {
      "text/plain": [
       "'isse'"
      ]
     },
     "execution_count": 45,
     "metadata": {},
     "output_type": "execute_result"
    }
   ],
   "source": [
    "c='isse3'\n",
    "c[:-1]"
   ]
  },
  {
   "cell_type": "code",
   "execution_count": null,
   "id": "b73d06ea",
   "metadata": {},
   "outputs": [],
   "source": [
    "a=[0,1,2,3,5,7,9]\n",
    "x=3\n",
    "\n",
    "for i in range(len(a)):\n",
    "    if a[i]>x:\n",
    "        q=a[:i]\n",
    "        break\n",
    "map1={}\n",
    "for j in range(len(q)):\n",
    "    if q[j] in map1.keys():\n",
    "        print(j,map1[j])\n",
    "    else:\n",
    "        diff=x-q[j]\n",
    "        map1[diff]=j"
   ]
  },
  {
   "cell_type": "code",
   "execution_count": null,
   "id": "6d1f13f4",
   "metadata": {},
   "outputs": [],
   "source": [
    "a=1\n",
    "b=2\n",
    "n=5\n",
    "m=5\n",
    "j=0\n",
    "mat=[[],[]]\n",
    "mat[[0][0]]=1\n",
    "mat[[0][1]]=2   \n",
    "# for i in range(n):\n",
    "#     if i in range(2) and j in range(2):\n",
    "#         mat[i][j]==\n",
    "mat"
   ]
  },
  {
   "cell_type": "code",
   "execution_count": 33,
   "id": "97bd69ce",
   "metadata": {},
   "outputs": [
    {
     "data": {
      "text/plain": [
       "3"
      ]
     },
     "execution_count": 33,
     "metadata": {},
     "output_type": "execute_result"
    }
   ],
   "source": [
    "f=[1,2,3,3]\n",
    "len(set(f))"
   ]
  },
  {
   "cell_type": "code",
   "execution_count": null,
   "id": "ada17faa",
   "metadata": {},
   "outputs": [],
   "source": []
  },
  {
   "cell_type": "code",
   "execution_count": null,
   "id": "efa160ca",
   "metadata": {},
   "outputs": [],
   "source": [
    "row=[]\n",
    "a=0\n",
    "b=1\n",
    "def fib(a,b,m):\n",
    "    for i in range(m):\n",
    "        x=a+b\n",
    "        row.append(a)\n",
    "        a=b\n",
    "        b=x\n",
    "    print(row)\n",
    "fib(a,b,10)"
   ]
  },
  {
   "cell_type": "code",
   "execution_count": null,
   "id": "90edd7b2",
   "metadata": {},
   "outputs": [],
   "source": [
    "def incriment_of_numbers(a,b,i):\n",
    "    a=a+i\n",
    "    b=b+i\n",
    "\n"
   ]
  },
  {
   "cell_type": "code",
   "execution_count": null,
   "id": "2022a715",
   "metadata": {},
   "outputs": [],
   "source": [
    "def divide(arr):\n",
    "    left=[]\n",
    "    right=[]\n",
    "    if len(arr)==1:\n",
    "        return arr\n",
    "    else:\n",
    "        for i in range(int(len(arr)/2)):\n",
    "            left.append(arr[i])\n",
    "        for j in range(int(len(arr)/2),len(arr)):\n",
    "            right.append(arr[j])\n",
    "#         print(left, right)\n",
    "        left= divide(left)\n",
    "        right= divide(right)\n",
    "    return left, right\n",
    "arr=[4,5,3,1,6,5,5,7,7,7,45,3,3,0]\n",
    "divide(arr)"
   ]
  },
  {
   "cell_type": "code",
   "execution_count": null,
   "id": "106f22bb",
   "metadata": {},
   "outputs": [],
   "source": [
    "def divide(arr):\n",
    "    left=[]\n",
    "    right=[]\n",
    "    if len(arr)==1:\n",
    "        return arr\n",
    "    else:\n",
    "        for i in range(int(len(arr)/2)):\n",
    "            left.append(arr[i])\n",
    "        for j in range(int(len(arr)/2),len(arr)):\n",
    "            right.append(arr[j])\n",
    "#         print(left, right)\n",
    "        left= divide(left)\n",
    "        right= divide(right)\n",
    "        y=merge(left,right)\n",
    "    return y\n",
    "\n",
    "def merge(left,right):\n",
    "    out=[]\n",
    "    i=0\n",
    "    j=0\n",
    "    while i<len(left) and j <len(right):\n",
    "#         print(left[i])\n",
    "#         print(right[j])\n",
    "            \n",
    "        if left[i]<=right[j]:\n",
    "            out.append(left[i])\n",
    "#             print(out)\n",
    "            i+=1\n",
    "        else:\n",
    "            out.append(right[j])\n",
    "            j+=1\n",
    "#     print(i)\n",
    "    while i<len(left):\n",
    "        out.append(left[i])\n",
    "        i+=1\n",
    "#     print(j)\n",
    "    while j<len(right):\n",
    "        out.append(right[j])\n",
    "        j+=1\n",
    "    return out\n",
    "\n",
    "\n",
    "# def divide_an_array(a):\n",
    "#     b=[]\n",
    "#     c=[]\n",
    "#     if len(a)==1:\n",
    "#         return a\n",
    "#     for i in range(len(a)//2):\n",
    "#         b.append(a[i])\n",
    "#     for j in range(len(a)//2,len(a)):\n",
    "#         c.append(a[j])\n",
    "#     b= divide_an_array(b)\n",
    "#     c= divide_an_array(c)\n",
    "# #     print('b is')\n",
    "# #     print(b)\n",
    "# #     print('c is')\n",
    "# #     print(c)\n",
    "#     s = merge(b,c)\n",
    "#     return s\n",
    "\n",
    "# a=[4,5,3,1,6,5,5,7,7,7,45,3,3,0]\n",
    "# divide_an_array(a)\n",
    "\n",
    "arr=[4,5,3,1,6,5,5,7,7,7,45,3,3,0]\n",
    "# left= [1,3,4,5,5,5]\n",
    "# right=[0,3,3,7,45]\n",
    "# merge(left,right)\n",
    "divide(arr)"
   ]
  },
  {
   "cell_type": "code",
   "execution_count": null,
   "id": "9e143a4d",
   "metadata": {},
   "outputs": [],
   "source": [
    "def div(arr):\n",
    "    left=[]\n",
    "    right=[]\n",
    "    if len(arr)==1:\n",
    "        return arr\n",
    "    else:\n",
    "        for i in range(len(arr)//2):\n",
    "            left.append(arr[i])\n",
    "        for j in range(len(arr)//2,len(arr)):\n",
    "            right.append(arr[j])\n",
    "    left=div(left)\n",
    "    right=div(right)\n",
    "#     final=sort(left,right)\n",
    "    return left, right\n",
    "\n",
    "# def sort(left,right):\n",
    "#     out=[]\n",
    "#     i=0\n",
    "#     j=0\n",
    "#     while i<len(left) and j<len(right):\n",
    "#         print(left[i])\n",
    "#         print(right[j])\n",
    "#         if left[i]<=right[j]:\n",
    "#             out.append(left[i])\n",
    "#             i+=1\n",
    "#         else:\n",
    "#             out.append(right[j])\n",
    "#             j+=1\n",
    "#     while i<len(left):\n",
    "#         out.append(left[i])\n",
    "#         i+=1\n",
    "#     while j<len(right):\n",
    "#         out.append(right[j])\n",
    "#         j+=1\n",
    "#     return out\n",
    "ar=[4,5,3,1,6,5,5,7,7,7,45,3,3,0]\n",
    "div(ar)        "
   ]
  },
  {
   "cell_type": "code",
   "execution_count": null,
   "id": "c1c4cbec",
   "metadata": {},
   "outputs": [],
   "source": [
    "#Binary Search\n",
    "array=[0, 1, 3, 3, 3, 4, 5, 5, 5, 6, 7, 7, 7, 45]\n",
    "x=0\n",
    "def binary_search(array,x):\n",
    "    for i in range(len(array)):\n",
    "        mid=len(array)//2\n",
    "        if len(array)==1 and x in array:\n",
    "            return True\n",
    "        if array[mid]==x:\n",
    "            return True\n",
    "        else:\n",
    "            new_array_left=array[:mid]\n",
    "            new_array_right=array[mid:]\n",
    "        \n",
    "        binary_search(new_array_left,x)\n",
    "        binary_search(new_array_right,x)\n",
    "#     return('not there')\n",
    "#     print(new_array_left)\n",
    "#     print(new_array_right)\n",
    "binary_search(array,x)"
   ]
  },
  {
   "cell_type": "code",
   "execution_count": null,
   "id": "819ee963",
   "metadata": {},
   "outputs": [],
   "source": [
    "array=[0, 1, 3, 3, 3, 4, 5, 5, 5, 6, 7, 7, 7, 45]\n",
    "x=45\n",
    "def binary(array,x):\n",
    "    if len(array)==1 and x == array[0]:\n",
    "        return array\n",
    "    mid=len(array)//2\n",
    "    if array[mid]==x:\n",
    "        return mid\n",
    "    elif array[mid]<x:\n",
    "        return binary(array[:mid],x)\n",
    "    else:\n",
    "        return binary(array[mid:],x)\n"
   ]
  },
  {
   "cell_type": "code",
   "execution_count": null,
   "id": "f6cbd37e",
   "metadata": {},
   "outputs": [],
   "source": [
    "binary(array,x)"
   ]
  },
  {
   "cell_type": "code",
   "execution_count": null,
   "id": "c398dda6",
   "metadata": {},
   "outputs": [],
   "source": [
    "def binarySearch(arr, l, r, x):\n",
    " \n",
    "    while l <= r:\n",
    " \n",
    "        mid = l + (r - l) // 2;\n",
    "         \n",
    "        # Check if x is present at mid\n",
    "        if arr[mid] == x:\n",
    "            return mid\n",
    " \n",
    "        # If x is greater, ignore left half\n",
    "        elif arr[mid] < x:\n",
    "            l = mid + 1\n",
    " \n",
    "        # If x is smaller, ignore right half\n",
    "        else:\n",
    "            r = mid - 1\n",
    "     \n",
    "    # If we reach here, then the element\n",
    "    # was not present\n",
    "    return -1\n",
    " \n",
    "# Driver Code\n",
    "arr = [ 2, 3, 4, 10, 40 ]\n",
    "x = 10\n",
    "binarySearch(arr,0,4,x)"
   ]
  },
  {
   "cell_type": "code",
   "execution_count": null,
   "id": "9f788bdc",
   "metadata": {},
   "outputs": [],
   "source": [
    "def bina(array,x):\n",
    "    l=0\n",
    "    while l<len(array):\n",
    "        if l>"
   ]
  },
  {
   "cell_type": "code",
   "execution_count": null,
   "id": "cbf2d4ff",
   "metadata": {},
   "outputs": [],
   "source": [
    "operations = [\"--X\",\"X++\",\"X++\"]\n",
    "x=0\n",
    "for i in operations:\n",
    "    print(i)\n",
    "    if i==\"--X\" :\n",
    "        x=x-1\n",
    "        print(x)\n",
    "    else:\n",
    "        x=x+1\n",
    "print(x)"
   ]
  },
  {
   "cell_type": "code",
   "execution_count": null,
   "id": "653634f6",
   "metadata": {},
   "outputs": [],
   "source": [
    "accounts = [1,2,3,3,2,1,4,8,9,5]\n",
    "index=1\n",
    "val=99\n",
    "# # accounts[1]=99\n",
    "# # accounts\n",
    "# out=[]\n",
    "# out.insert(1,2)\n",
    "# out.insert(0,9)\n",
    "# out\n",
    "def ins(arr,i,val):\n",
    "    left=[]\n",
    "    right=[]\n",
    "    left=arr[:i]\n",
    "    right=arr[i:]\n",
    "    left.append(val)\n",
    "    for j in range(len(right)):\n",
    "        left.append(right[j])\n",
    "    return left\n",
    "ins(accounts,index,val)"
   ]
  },
  {
   "cell_type": "code",
   "execution_count": null,
   "id": "3ee88013",
   "metadata": {},
   "outputs": [],
   "source": [
    "a=max(accounts[:5])"
   ]
  },
  {
   "cell_type": "code",
   "execution_count": null,
   "id": "2a72cf01",
   "metadata": {},
   "outputs": [],
   "source": [
    "map={}\n",
    "# if 3 in map:\n",
    "#     print(True)\n",
    "for i in range(10):\n",
    "    map[i]=0"
   ]
  },
  {
   "cell_type": "code",
   "execution_count": null,
   "id": "3c4e9426",
   "metadata": {},
   "outputs": [],
   "source": [
    "map['9']='pp'"
   ]
  },
  {
   "cell_type": "code",
   "execution_count": null,
   "id": "8466eefa",
   "metadata": {},
   "outputs": [],
   "source": [
    "map"
   ]
  },
  {
   "cell_type": "code",
   "execution_count": 62,
   "id": "7b8e01b5",
   "metadata": {},
   "outputs": [
    {
     "ename": "IndentationError",
     "evalue": "unexpected indent (2661555286.py, line 9)",
     "output_type": "error",
     "traceback": [
      "\u001b[0;36m  File \u001b[0;32m\"/var/folders/c2/8w8zm3y54dv4brkh8h3y2_k80000gn/T/ipykernel_25798/2661555286.py\"\u001b[0;36m, line \u001b[0;32m9\u001b[0m\n\u001b[0;31m    for char in encrypted:\u001b[0m\n\u001b[0m    ^\u001b[0m\n\u001b[0;31mIndentationError\u001b[0m\u001b[0;31m:\u001b[0m unexpected indent\n"
     ]
    }
   ],
   "source": [
    "def simpleCipher (encrypted, k) :\n",
    "#     variable to hold the final ans\n",
    "    ans=''\n",
    "    \n",
    "    # Normalise the k value. Hint:0<k<26\n",
    "    k = k%26\n",
    "\n",
    "        # Loop thru each char in cypher\n",
    "        for char in encrypted:\n",
    "            # Get the ASCII number for the given char\n",
    "            # Make sure they are uppercase.\n",
    "            new_char = ord(char)-k\n",
    "      \n",
    "            # Check if the ASCII value is out of aplhabets range.\n",
    "            if new_char <65:\n",
    "                # then fix by adding 26.\n",
    "                new_char = new_char + 26\n",
    "       \n",
    "            # Retrive the char value from ascii code.\n",
    "            new_val = chr(new_char)\n",
    "        \n",
    "            # Append the new value to output srting\n",
    "            ans = ans+ new_val\n",
    "    return ans"
   ]
  },
  {
   "cell_type": "code",
   "execution_count": null,
   "id": "8c75c567",
   "metadata": {},
   "outputs": [],
   "source": [
    "simpleCipher('ABDEF',2)"
   ]
  },
  {
   "cell_type": "code",
   "execution_count": null,
   "id": "5fb37dbd",
   "metadata": {},
   "outputs": [],
   "source": [
    "chr (95)"
   ]
  },
  {
   "cell_type": "code",
   "execution_count": null,
   "id": "d0da045f",
   "metadata": {},
   "outputs": [],
   "source": [
    "a=(ord('卍 ')-2)+26\n"
   ]
  },
  {
   "cell_type": "code",
   "execution_count": null,
   "id": "75318e32",
   "metadata": {},
   "outputs": [],
   "source": [
    "56%26"
   ]
  },
  {
   "cell_type": "code",
   "execution_count": null,
   "id": "3dda2c19",
   "metadata": {},
   "outputs": [],
   "source": [
    "simpleCipher('CDEF',2)"
   ]
  },
  {
   "cell_type": "code",
   "execution_count": null,
   "id": "341276f8",
   "metadata": {},
   "outputs": [],
   "source": [
    "# def counting(s):\n",
    "#     ans =0\n",
    "#     prev =0\n",
    "#     cur =1\n",
    "#     for i in range (1,len(s)):\n",
    "#         if s[i-1]!= s[i]:\n",
    "#             ans+= min(prev, cur)\n",
    "            \n",
    "#             prev = cur\n",
    "#             cur = 1\n",
    "#         else:\n",
    "#             cur +=1\n",
    "#     return ans + min(prev, cur)\n",
    "\n",
    "\n",
    "\n",
    "def counting(s):\n",
    "    ans =0\n",
    "    prev =0\n",
    "    cur =1\n",
    "    for i in range (1,len(s)):\n",
    "        if s[i-1]!= s[i]:\n",
    "            ans+= min(prev, cur)\n",
    "            print(prev, cur)\n",
    "            prev = cur\n",
    "#             print(prev)\n",
    "            cur = 1\n",
    "        else:\n",
    "            cur +=1\n",
    "#             print(cur)\n",
    "    print(prev, cur)\n",
    "    return ans + min(prev, cur)\n",
    "counting('000111011100')"
   ]
  },
  {
   "cell_type": "code",
   "execution_count": null,
   "id": "71defda0",
   "metadata": {},
   "outputs": [],
   "source": [
    "def group(stri):\n",
    "    count_0=0\n",
    "    count_1=0\n",
    "    out=[]\n",
    "    for i in range(len(stri)):\n",
    "        if stri[i]=='0':\n",
    "            count_0+=1\n",
    "#             pass\n",
    "        if count_0>=1 and stri[i]=='1':\n",
    "            out.append(count_0)\n",
    "            count_0=0\n",
    "#             pass\n",
    "        if stri[i]=='1':\n",
    "            count_1+=1\n",
    "#             pass\n",
    "        if count_1>=1 and stri[i]=='0':\n",
    "            out.append(count_1)\n",
    "            count_1=0\n",
    "#             pass\n",
    "    out.append(max(count_0, count_1))\n",
    "    print(out)\n",
    "    count=0\n",
    "    final=0\n",
    "    for i in range(len(out[1:])):\n",
    "        count=count+min(out[i-1],out[i])\n",
    "    return count\n",
    "            \n",
    "            \n",
    "    \n",
    "\n",
    "\n",
    "h='0000111011100'\n",
    "# h='101000111101010100000111101'\n",
    "group(h)          \n",
    "    "
   ]
  },
  {
   "cell_type": "code",
   "execution_count": null,
   "id": "767c34f7",
   "metadata": {},
   "outputs": [],
   "source": [
    "3+1+1+"
   ]
  },
  {
   "cell_type": "code",
   "execution_count": null,
   "id": "0c837cd8",
   "metadata": {},
   "outputs": [],
   "source": []
  },
  {
   "cell_type": "code",
   "execution_count": null,
   "id": "e2a0d4a5",
   "metadata": {},
   "outputs": [],
   "source": [
    "out=[4, 3, 1, 3, 2]"
   ]
  },
  {
   "cell_type": "code",
   "execution_count": null,
   "id": "40fe2fbf",
   "metadata": {},
   "outputs": [],
   "source": [
    "# for i,j in enumerate(range(len(out[1:]))):\n",
    "for i in range(len(out[1:])):\n",
    "    print(out[i+1],out[i])"
   ]
  },
  {
   "cell_type": "code",
   "execution_count": null,
   "id": "6b2de666",
   "metadata": {},
   "outputs": [],
   "source": []
  },
  {
   "cell_type": "code",
   "execution_count": null,
   "id": "841aad9d",
   "metadata": {},
   "outputs": [],
   "source": []
  },
  {
   "cell_type": "code",
   "execution_count": null,
   "id": "254d7942",
   "metadata": {},
   "outputs": [],
   "source": []
  },
  {
   "cell_type": "code",
   "execution_count": null,
   "id": "76c09ec2",
   "metadata": {},
   "outputs": [],
   "source": []
  },
  {
   "cell_type": "code",
   "execution_count": null,
   "id": "cd5804ee",
   "metadata": {},
   "outputs": [],
   "source": []
  },
  {
   "cell_type": "code",
   "execution_count": null,
   "id": "09094bd8",
   "metadata": {},
   "outputs": [],
   "source": [
    "'0000111011100'"
   ]
  },
  {
   "cell_type": "code",
   "execution_count": null,
   "id": "e26635db",
   "metadata": {},
   "outputs": [],
   "source": [
    "h='0000111011100'\n",
    "for i in range(len(h)):\n",
    "    print(h[i])"
   ]
  },
  {
   "cell_type": "code",
   "execution_count": null,
   "id": "0e66d906",
   "metadata": {},
   "outputs": [],
   "source": []
  },
  {
   "cell_type": "code",
   "execution_count": null,
   "id": "e7d5d62f",
   "metadata": {},
   "outputs": [],
   "source": []
  },
  {
   "cell_type": "code",
   "execution_count": null,
   "id": "1e44b3bf",
   "metadata": {},
   "outputs": [],
   "source": []
  },
  {
   "cell_type": "code",
   "execution_count": null,
   "id": "e845ed11",
   "metadata": {},
   "outputs": [],
   "source": []
  },
  {
   "cell_type": "code",
   "execution_count": null,
   "id": "599b1f55",
   "metadata": {},
   "outputs": [],
   "source": []
  },
  {
   "cell_type": "code",
   "execution_count": null,
   "id": "7f775f1e",
   "metadata": {},
   "outputs": [],
   "source": [
    "counting('001100')"
   ]
  },
  {
   "cell_type": "code",
   "execution_count": null,
   "id": "d9074a61",
   "metadata": {},
   "outputs": [],
   "source": [
    "candies = [4,2,1,1,2]\n",
    "\n",
    "extraCandies = 1\n",
    "for i in range(len(candies)):\n",
    "    candies[i]=candies[i]+extraCandies\n",
    "candies\n",
    "\n",
    "    "
   ]
  },
  {
   "cell_type": "code",
   "execution_count": null,
   "id": "666d8a56",
   "metadata": {},
   "outputs": [],
   "source": [
    "out=[]\n",
    "for j in range(len(candies)):\n",
    "    if j==0:\n",
    "        out.append(True)\n",
    "        continue\n",
    "    print(candies[j],candies[j-1])\n",
    "    if candies[j]>=max(candies[:j]):\n",
    "        out.append(True)        \n",
    "    else:[1]\n",
    "        out.append(False)\n",
    "print(out)"
   ]
  },
  {
   "cell_type": "code",
   "execution_count": null,
   "id": "d213f4ab",
   "metadata": {},
   "outputs": [],
   "source": [
    "if out == [True,False,False,False,False]:\n",
    "    print('oo')\n",
    "else:\n",
    "    print('ppp')"
   ]
  },
  {
   "cell_type": "code",
   "execution_count": 63,
   "id": "ef281ef6",
   "metadata": {},
   "outputs": [],
   "source": [
    "def cyp(stri,k):\n",
    "    k=k%26\n",
    "    out=''\n",
    "    for i in stri:\n",
    "        new_val=ord(i)-k\n",
    "        if new_val<65:\n",
    "            new_val=new_val+26\n",
    "        new_alph=chr(new_val)\n",
    "        out+=new_alph\n",
    "    return out"
   ]
  },
  {
   "cell_type": "code",
   "execution_count": 67,
   "id": "59e33bd9",
   "metadata": {},
   "outputs": [
    {
     "data": {
      "text/plain": [
       "'`ABC'"
      ]
     },
     "execution_count": 67,
     "metadata": {},
     "output_type": "execute_result"
    }
   ],
   "source": [
    "cyp('aBCD',27)"
   ]
  },
  {
   "cell_type": "code",
   "execution_count": 69,
   "id": "e589027a",
   "metadata": {},
   "outputs": [
    {
     "name": "stdout",
     "output_type": "stream",
     "text": [
      "Z\n",
      "[\n",
      "\\\n",
      "]\n",
      "^\n",
      "_\n",
      "`\n"
     ]
    }
   ],
   "source": [
    "for i in range(90,97):\n",
    "    print(chr(i))"
   ]
  },
  {
   "cell_type": "code",
   "execution_count": null,
   "id": "ed6513f8",
   "metadata": {},
   "outputs": [],
   "source": []
  },
  {
   "cell_type": "code",
   "execution_count": null,
   "id": "a7795400",
   "metadata": {},
   "outputs": [],
   "source": []
  },
  {
   "cell_type": "code",
   "execution_count": null,
   "id": "71fda7cc",
   "metadata": {},
   "outputs": [],
   "source": [
    "def simpleCipher (encrypted, k) :\n",
    "#     variable to hold the final ans\n",
    "    ans=''\n",
    "#     Normalise the k value. Hint:0<k<26\n",
    "    k = k%26\n",
    "#     Loop thru each char in cypher\n",
    "    for char in encrypted:\n",
    "#       Get the ASCII number for the given char\n",
    "#       Make sure they are uppercase.\n",
    "        new_char = ord(char)-k\n",
    "#       Check if the ASCII value is out of aplhabets range.\n",
    "        if new_char <65:\n",
    "#             then fix by adding 26.\n",
    "            new_char = new_char + 26\n",
    "#     Retrive the char value from ascii code.\n",
    "        new_val = chr(new_char)\n",
    "#     Append the new value to output srting\n",
    "        ans = ans+ new_val\n",
    "    return ans"
   ]
  },
  {
   "cell_type": "code",
   "execution_count": null,
   "id": "8544d494",
   "metadata": {},
   "outputs": [],
   "source": [
    "def cryp(inp,k):\n",
    "    k=k%26\n",
    "    out=''\n",
    "    for i in inp:\n",
    "        new_val=ord(i)-2\n",
    "        if new_val<65:\n",
    "            new_val=new_val+26\n",
    "        new_char=chr(new_val)\n",
    "        out=out+new_char\n",
    "    return out"
   ]
  },
  {
   "cell_type": "code",
   "execution_count": null,
   "id": "e0e056b7",
   "metadata": {},
   "outputs": [],
   "source": [
    "cryp('ABCD',2)"
   ]
  },
  {
   "cell_type": "code",
   "execution_count": null,
   "id": "0bae8130",
   "metadata": {},
   "outputs": [],
   "source": [
    "def new(stri,k):\n",
    "    alph_dict={'A':65,'B':66,'C':67,'D':68,'E':69,'F':70,'G':71,'H':72,'I':73,'J':74,'K':75,'L':76,'M':77,'N':78,'O':79,'P':80,'Q':81,'R':82,'S':83,'T':84,'U':85,'V':86,'W':87,'X':88,'Y':89,'Z':90}\n",
    "    k=k%26\n",
    "    ou=''\n",
    "    for i in stri:\n",
    "        if i in alph_dict:\n",
    "            "
   ]
  },
  {
   "cell_type": "code",
   "execution_count": 1,
   "id": "d014ef02",
   "metadata": {},
   "outputs": [
    {
     "ename": "SyntaxError",
     "evalue": "invalid syntax (3396038557.py, line 12)",
     "output_type": "error",
     "traceback": [
      "\u001b[0;36m  File \u001b[0;32m\"/var/folders/c2/8w8zm3y54dv4brkh8h3y2_k80000gn/T/ipykernel_9434/3396038557.py\"\u001b[0;36m, line \u001b[0;32m12\u001b[0m\n\u001b[0;31m    new_char= alph of new_val\u001b[0m\n\u001b[0m                   ^\u001b[0m\n\u001b[0;31mSyntaxError\u001b[0m\u001b[0;31m:\u001b[0m invalid syntax\n"
     ]
    }
   ],
   "source": [
    "alph_dict={'A':65,'B':66,'C':67,'D':68,'E':69,'F':70,'G':71,'H':72,'I':73,'J':74,'K':75,'L':76,'M':77,'N':78,'O':79,'P':80,'Q':81,'R':82,'S':83,'T':84,'U':85,'V':86,'W':87,'X':88,'Y':89,'Z':90}\n",
    "stri='ABCD'\n",
    "k=2\n",
    "ou=''\n",
    "k=k%26\n",
    "for i in stri:\n",
    "    if i in alph_dict:\n",
    "        new_val=alph_dict[i]-k\n",
    "        if new_val<65:\n",
    "            new_val+=26\n",
    "    for  charac,valu in alph_dict.items():\n",
    "        new_char= alph of new_val\n",
    "    ou+=new_char\n",
    "print(ou)"
   ]
  },
  {
   "cell_type": "code",
   "execution_count": 20,
   "id": "92e20d0f",
   "metadata": {},
   "outputs": [
    {
     "name": "stdout",
     "output_type": "stream",
     "text": [
      "{'A': 1, 'B': 2, 'C': 3, 'D': 4, 'E': 5, 'F': 6, 'G': 7, 'H': 8, 'I': 9, 'J': 10, 'K': 11, 'L': 12, 'M': 13, 'N': 14, 'O': 15, 'P': 16, 'Q': 17, 'R': 18, 'S': 19, 'T': 20, 'U': 21, 'V': 22, 'W': 23, 'X': 24, 'Y': 25, 'Z': 26}\n",
      "IKP\n"
     ]
    }
   ],
   "source": [
    "encrypted = \"RTY\"\n",
    "k = 9\n",
    "k%=26\n",
    "dicto = {}\n",
    "out=''\n",
    "for i in range(65,65+26):\n",
    "    dicto[chr(i)] = i-64\n",
    "print(dicto)\n",
    "for i in encrypted:\n",
    "    new_val = dicto[i]-k\n",
    "    if new_val < 1:\n",
    "        new_val+=26\n",
    "    for j,l in dicto.items():\n",
    "        if l == new_val:\n",
    "            out=out+j\n",
    "print(out)"
   ]
  },
  {
   "cell_type": "code",
   "execution_count": 29,
   "id": "b85858d9",
   "metadata": {},
   "outputs": [
    {
     "name": "stdout",
     "output_type": "stream",
     "text": [
      "YZA\n"
     ]
    }
   ],
   "source": [
    "encrypted = \"ABC\"\n",
    "k = 2\n",
    "k%=26\n",
    "out=''\n",
    "\n",
    "for i in range(65,65+26):\n",
    "    dict_num_char[i-64] = chr(i)\n",
    "    dict_char_num[chr(i)] = i-64\n",
    "# print(dict_num_char)\n",
    "# print(dict_char_num)\n",
    "    \n",
    "for i in encrypted:\n",
    "    new_val = (dict_char_num[i]-k)\n",
    "    new_val = new_val if new_val>=1 else new_val+26\n",
    "    out+=dict_num_char[new_val]\n",
    "print(out)"
   ]
  },
  {
   "cell_type": "code",
   "execution_count": 50,
   "id": "55f35c92",
   "metadata": {},
   "outputs": [
    {
     "name": "stdout",
     "output_type": "stream",
     "text": [
      "{'A': 1, 'B': 2, 'C': 3, 'D': 4, 'E': 5, 'F': 6, 'G': 7, 'H': 8, 'I': 9, 'J': 10, 'K': 11, 'L': 12, 'M': 13, 'N': 14, 'O': 15, 'P': 16, 'Q': 17, 'R': 18, 'S': 19, 'T': 20, 'U': 21, 'V': 22, 'W': 23, 'X': 24, 'Y': 25, 'Z': 26}\n"
     ]
    }
   ],
   "source": [
    "dic={}\n",
    "k=90\n",
    "enc='ABCD'\n",
    "for i in range(65,65+26):\n",
    "    dic[chr(i)]=i-64\n",
    "k%=26\n",
    "for i in enc:\n",
    "    new_val=dic[i]-"
   ]
  },
  {
   "cell_type": "code",
   "execution_count": 13,
   "id": "ae2391b5",
   "metadata": {},
   "outputs": [
    {
     "ename": "TypeError",
     "evalue": "dict.keys() takes no arguments (1 given)",
     "output_type": "error",
     "traceback": [
      "\u001b[0;31m---------------------------------------------------------------------------\u001b[0m",
      "\u001b[0;31mTypeError\u001b[0m                                 Traceback (most recent call last)",
      "\u001b[0;32m/var/folders/c2/8w8zm3y54dv4brkh8h3y2_k80000gn/T/ipykernel_9434/3035794698.py\u001b[0m in \u001b[0;36m<module>\u001b[0;34m\u001b[0m\n\u001b[1;32m      1\u001b[0m \u001b[0malph_dict\u001b[0m\u001b[0;34m=\u001b[0m\u001b[0;34m{\u001b[0m\u001b[0;34m'A'\u001b[0m\u001b[0;34m:\u001b[0m\u001b[0;36m65\u001b[0m\u001b[0;34m,\u001b[0m\u001b[0;34m'B'\u001b[0m\u001b[0;34m:\u001b[0m\u001b[0;36m66\u001b[0m\u001b[0;34m,\u001b[0m\u001b[0;34m'C'\u001b[0m\u001b[0;34m:\u001b[0m\u001b[0;36m67\u001b[0m\u001b[0;34m}\u001b[0m\u001b[0;34m\u001b[0m\u001b[0;34m\u001b[0m\u001b[0m\n\u001b[0;32m----> 2\u001b[0;31m \u001b[0mprint\u001b[0m\u001b[0;34m(\u001b[0m\u001b[0malph_dict\u001b[0m\u001b[0;34m.\u001b[0m\u001b[0mkeys\u001b[0m\u001b[0;34m(\u001b[0m\u001b[0;36m65\u001b[0m\u001b[0;34m)\u001b[0m\u001b[0;34m)\u001b[0m\u001b[0;34m\u001b[0m\u001b[0;34m\u001b[0m\u001b[0m\n\u001b[0m",
      "\u001b[0;31mTypeError\u001b[0m: dict.keys() takes no arguments (1 given)"
     ]
    }
   ],
   "source": [
    "alph_dict={'A':65,'B':66,'C':67}\n",
    "print(alph_dict.key(65))\n"
   ]
  },
  {
   "cell_type": "code",
   "execution_count": null,
   "id": "ad586380",
   "metadata": {},
   "outputs": [],
   "source": []
  },
  {
   "cell_type": "code",
   "execution_count": null,
   "id": "b03dd9c6",
   "metadata": {},
   "outputs": [],
   "source": []
  },
  {
   "cell_type": "code",
   "execution_count": null,
   "id": "870b1c0a",
   "metadata": {},
   "outputs": [],
   "source": []
  },
  {
   "cell_type": "code",
   "execution_count": null,
   "id": "2f4efa4e",
   "metadata": {},
   "outputs": [],
   "source": []
  },
  {
   "cell_type": "code",
   "execution_count": null,
   "id": "61d99a68",
   "metadata": {},
   "outputs": [],
   "source": []
  },
  {
   "cell_type": "code",
   "execution_count": null,
   "id": "7ae1f777",
   "metadata": {},
   "outputs": [],
   "source": [
    "def enc(string,l):\n",
    "    l=l%26\n",
    "    out=''\n",
    "    for i in string:\n",
    "        new_char=ord(i)-2\n",
    "        if new_char<65:\n",
    "            new_char=new_char+26\n",
    "        new=chr(new_char)\n",
    "        out=out+new\n",
    "    return out"
   ]
  },
  {
   "cell_type": "code",
   "execution_count": null,
   "id": "9267a24e",
   "metadata": {},
   "outputs": [],
   "source": [
    "enc('ABCD',2)"
   ]
  },
  {
   "cell_type": "code",
   "execution_count": null,
   "id": "74326886",
   "metadata": {},
   "outputs": [],
   "source": [
    "def counting(s):\n",
    "    ans =0\n",
    "    prev =0\n",
    "    cur =1\n",
    "#     r=0\n",
    "    for i in range (1,len(s)):\n",
    "        if s[i-1]!= s[i]:\n",
    "#             r+= min(prev, cur)\n",
    "#             print(r)\n",
    "#             print('*****')\n",
    "            print(min(prev, cur))\n",
    "#             print('*****')\n",
    "            ans+= min(prev, cur)\n",
    "            prev = cur\n",
    "            cur = 1\n",
    "        else:\n",
    "            cur +=1\n",
    "    return ans + min(prev, cur)\n",
    "\n",
    "\n",
    "counting('001100')"
   ]
  },
  {
   "cell_type": "code",
   "execution_count": null,
   "id": "f087432e",
   "metadata": {},
   "outputs": [],
   "source": [
    "# why did we start from cur=1\n",
    "# "
   ]
  },
  {
   "cell_type": "code",
   "execution_count": null,
   "id": "7e75d1f4",
   "metadata": {},
   "outputs": [],
   "source": [
    "def crypto(s,k):\n",
    "    out=''\n",
    "    k=k%26\n",
    "    for i in s:\n",
    "        new_val=ord(i)-2\n",
    "        if new_val<65:\n",
    "            new_val=new_val+26\n",
    "        charac=chr(new_val)\n",
    "        out+=(charac)\n",
    "    return out\n",
    "crypto('DEFGH',2)"
   ]
  },
  {
   "cell_type": "code",
   "execution_count": 10,
   "id": "4e36d0e0",
   "metadata": {},
   "outputs": [
    {
     "name": "stdout",
     "output_type": "stream",
     "text": [
      "[1, 1, 1, 3, 4, 1, 1, 1, 1, 1, 1, 5, 4, 1]\n",
      "None\n"
     ]
    },
    {
     "data": {
      "text/plain": [
       "[1, 1, 1, 3, 4, 1, 1, 1, 1, 1, 1, 5, 4, 1, 1]"
      ]
     },
     "execution_count": 10,
     "metadata": {},
     "output_type": "execute_result"
    }
   ],
   "source": [
    "def az2(s):\n",
    "    count_0=0\n",
    "    count_1=0\n",
    "    out9=[]\n",
    "    for i in s:\n",
    "        if i=='0':\n",
    "            count_0+=1\n",
    "#             pass                       \n",
    "        if count_0>=1 and i=='1':\n",
    "            out9.append(count_0)\n",
    "            count_0=0\n",
    "#             pass\n",
    "        if i=='1': \n",
    "            count_1+=1\n",
    "#             pass\n",
    "        if count_1>=1 and i=='0':\n",
    "#             print(count_1)\n",
    "            out9.append(count_1)\n",
    "            count_1=0\n",
    "#             pass \n",
    "    print(out9)\n",
    "    l=out9.append(max(count_1,count_0))\n",
    "    print(l)\n",
    "    return out9\n",
    "\n",
    "az2('101000111101010100000111101')"
   ]
  },
  {
   "cell_type": "code",
   "execution_count": null,
   "id": "c44f189d",
   "metadata": {},
   "outputs": [],
   "source": [
    "[1, 1, 1, 3, 4, 1, 1, 1, 1, 1, 1, 5, 4, 1, 1]"
   ]
  },
  {
   "cell_type": "code",
   "execution_count": 61,
   "id": "d7a9e756",
   "metadata": {},
   "outputs": [
    {
     "data": {
      "text/plain": [
       "19"
      ]
     },
     "execution_count": 61,
     "metadata": {},
     "output_type": "execute_result"
    }
   ],
   "source": [
    "def coun(s):\n",
    "    cur=1\n",
    "    prev=0\n",
    "    ans=0\n",
    "    for i in range(1,len(s)):\n",
    "        if s[i-1]!=s[i]:\n",
    "            ans+=min(prev,cur)\n",
    "            prev=cur\n",
    "            cur=1   \n",
    "        else:\n",
    "            cur+=1\n",
    "    return ans+min(prev,cur)\n",
    "\n",
    "\n",
    "az=('101000111101010100000111101')\n",
    "coun(az)\n"
   ]
  },
  {
   "cell_type": "code",
   "execution_count": null,
   "id": "1a5752db",
   "metadata": {},
   "outputs": [],
   "source": [
    "def counting(s):\n",
    "    ans =0\n",
    "    prev =0\n",
    "    cur =1\n",
    "    for i in range (1,len(s)):\n",
    "        if s[i-1]!= s[i]:\n",
    "            ans+= min(prev, cur)\n",
    "            \n",
    "            prev = cur\n",
    "            cur = 1\n",
    "        else:\n",
    "            cur +=1\n",
    "    print('----')\n",
    "    return ans + min(prev, cur)\n",
    "counting(az)"
   ]
  },
  {
   "cell_type": "code",
   "execution_count": null,
   "id": "0d0e0e9b",
   "metadata": {},
   "outputs": [],
   "source": []
  },
  {
   "cell_type": "code",
   "execution_count": null,
   "id": "a032c52b",
   "metadata": {},
   "outputs": [],
   "source": [
    "def cryp(stri,k):\n",
    "    k=k%26\n",
    "    out=''\n",
    "    for i in stri:\n",
    "        new_val=ord(i)-k\n",
    "        if new_val<65:\n",
    "            new_val+=26\n",
    "        new_char=chr(new_val)\n",
    "        out=out+new_char\n",
    "    return out\n",
    "cryp('ABCD',2)"
   ]
  },
  {
   "cell_type": "code",
   "execution_count": null,
   "id": "203e812c",
   "metadata": {},
   "outputs": [],
   "source": [
    "def counting(stri):\n",
    "    ans=0\n",
    "    cur=1\n",
    "    prev=0\n",
    "    for i in range(1,len(stri)):\n",
    "        if stri[i-1]!=stri[i]:\n",
    "            ans+=min(prev,cur)\n",
    "            prev=cur\n",
    "            cur=1\n",
    "        else:\n",
    "            cur+=1\n",
    "    return ans+min(cur,prev)\n",
    "counting('101000111101010100000111101')"
   ]
  },
  {
   "cell_type": "code",
   "execution_count": 50,
   "id": "0e22039d",
   "metadata": {},
   "outputs": [
    {
     "ename": "TypeError",
     "evalue": "'int' object is not subscriptable",
     "output_type": "error",
     "traceback": [
      "\u001b[0;31m---------------------------------------------------------------------------\u001b[0m",
      "\u001b[0;31mTypeError\u001b[0m                                 Traceback (most recent call last)",
      "\u001b[0;32m/var/folders/c2/8w8zm3y54dv4brkh8h3y2_k80000gn/T/ipykernel_4085/1092582389.py\u001b[0m in \u001b[0;36m<module>\u001b[0;34m\u001b[0m\n\u001b[1;32m      3\u001b[0m \u001b[0mdict\u001b[0m\u001b[0;34m=\u001b[0m\u001b[0;34m{\u001b[0m\u001b[0;34m}\u001b[0m\u001b[0;34m\u001b[0m\u001b[0;34m\u001b[0m\u001b[0m\n\u001b[1;32m      4\u001b[0m \u001b[0;32mfor\u001b[0m \u001b[0mi\u001b[0m \u001b[0;32min\u001b[0m \u001b[0mrange\u001b[0m\u001b[0;34m(\u001b[0m\u001b[0mlen\u001b[0m\u001b[0;34m(\u001b[0m\u001b[0mu\u001b[0m\u001b[0;34m)\u001b[0m\u001b[0;34m)\u001b[0m\u001b[0;34m:\u001b[0m\u001b[0;34m\u001b[0m\u001b[0;34m\u001b[0m\u001b[0m\n\u001b[0;32m----> 5\u001b[0;31m     \u001b[0mprint\u001b[0m\u001b[0;34m(\u001b[0m\u001b[0mu\u001b[0m\u001b[0;34m[\u001b[0m\u001b[0mi\u001b[0m\u001b[0;34m[\u001b[0m\u001b[0;34m-\u001b[0m\u001b[0;36m1\u001b[0m\u001b[0;34m]\u001b[0m\u001b[0;34m]\u001b[0m\u001b[0;34m)\u001b[0m\u001b[0;34m\u001b[0m\u001b[0;34m\u001b[0m\u001b[0m\n\u001b[0m\u001b[1;32m      6\u001b[0m     \u001b[0mprint\u001b[0m\u001b[0;34m(\u001b[0m\u001b[0mu\u001b[0m\u001b[0;34m[\u001b[0m\u001b[0mi\u001b[0m\u001b[0;34m[\u001b[0m\u001b[0;34m:\u001b[0m\u001b[0;34m-\u001b[0m\u001b[0;36m1\u001b[0m\u001b[0;34m]\u001b[0m\u001b[0;34m]\u001b[0m\u001b[0;34m)\u001b[0m\u001b[0;34m\u001b[0m\u001b[0;34m\u001b[0m\u001b[0m\n\u001b[1;32m      7\u001b[0m \u001b[0;31m#     dict[(u[i[-1]])]=u[i[:-1]]\u001b[0m\u001b[0;34m\u001b[0m\u001b[0;34m\u001b[0m\u001b[0m\n",
      "\u001b[0;31mTypeError\u001b[0m: 'int' object is not subscriptable"
     ]
    }
   ],
   "source": [
    "sentences = \"is2 sentence4 This1 a3\"\n",
    "u=sentences.split()\n",
    "dict={}\n",
    "for i in range(len(u)):\n",
    "    print(u[i[-1]])\n",
    "    print(u[i[:-1]])\n",
    "#     dict[(u[i[-1]])]=u[i[:-1]]\n",
    "# print(dict)\n",
    "\n",
    "# type(sentences)\n",
    "# # out=0\n",
    "# for i in sentences:\n",
    "# # for i in \n",
    "#     u=sentences.spilt()\n",
    "#     print(u)"
   ]
  },
  {
   "cell_type": "code",
   "execution_count": 47,
   "id": "d8ec0be1",
   "metadata": {},
   "outputs": [
    {
     "name": "stdout",
     "output_type": "stream",
     "text": [
      "is\n",
      "sentence\n",
      "This\n",
      "a\n"
     ]
    }
   ],
   "source": [
    "f=['is2', 'sentence4', 'This1', 'a3']\n",
    "for i in f:\n",
    "    print(i[:-1])"
   ]
  },
  {
   "cell_type": "code",
   "execution_count": 8,
   "id": "31fd48e8",
   "metadata": {},
   "outputs": [
    {
     "name": "stdout",
     "output_type": "stream",
     "text": [
      "a\n"
     ]
    },
    {
     "data": {
      "text/plain": [
       "{'A': 1, 'a': 5, 'b': 6, 'B': 8}"
      ]
     },
     "execution_count": 8,
     "metadata": {},
     "output_type": "execute_result"
    }
   ],
   "source": [
    "a='AaabB'\n",
    "print(a[2])\n",
    "b=[1,0,5,6,8]\n",
    "dic = dict(zip(a, b))\n",
    "dic"
   ]
  },
  {
   "cell_type": "code",
   "execution_count": 11,
   "id": "304b0765",
   "metadata": {},
   "outputs": [
    {
     "data": {
      "text/plain": [
       "1"
      ]
     },
     "execution_count": 11,
     "metadata": {},
     "output_type": "execute_result"
    }
   ],
   "source": [
    "dict={'A': 1, 'a': 5, 'b': 6, 'B': 8}\n",
    "dict['A']"
   ]
  },
  {
   "cell_type": "code",
   "execution_count": 28,
   "id": "77d97905",
   "metadata": {},
   "outputs": [
    {
     "ename": "TypeError",
     "evalue": "string indices must be integers",
     "output_type": "error",
     "traceback": [
      "\u001b[0;31m---------------------------------------------------------------------------\u001b[0m",
      "\u001b[0;31mTypeError\u001b[0m                                 Traceback (most recent call last)",
      "\u001b[0;32m/var/folders/c2/8w8zm3y54dv4brkh8h3y2_k80000gn/T/ipykernel_4085/3272085789.py\u001b[0m in \u001b[0;36m<module>\u001b[0;34m\u001b[0m\n\u001b[1;32m      1\u001b[0m \u001b[0mg\u001b[0m\u001b[0;34m=\u001b[0m\u001b[0;34m'101000111101010100000111101'\u001b[0m\u001b[0;34m\u001b[0m\u001b[0;34m\u001b[0m\u001b[0m\n\u001b[0;32m----> 2\u001b[0;31m \u001b[0;32mfor\u001b[0m \u001b[0mi\u001b[0m \u001b[0;32min\u001b[0m \u001b[0mg\u001b[0m\u001b[0;34m[\u001b[0m\u001b[0;36m1\u001b[0m\u001b[0;34m,\u001b[0m\u001b[0;36m5\u001b[0m\u001b[0;34m]\u001b[0m\u001b[0;34m:\u001b[0m\u001b[0;34m\u001b[0m\u001b[0;34m\u001b[0m\u001b[0m\n\u001b[0m\u001b[1;32m      3\u001b[0m     \u001b[0mprint\u001b[0m\u001b[0;34m(\u001b[0m\u001b[0mi\u001b[0m\u001b[0;34m)\u001b[0m\u001b[0;34m\u001b[0m\u001b[0;34m\u001b[0m\u001b[0m\n",
      "\u001b[0;31mTypeError\u001b[0m: string indices must be integers"
     ]
    }
   ],
   "source": [
    "g='101000111101010100000111101'\n",
    "for i in g[1,5]:\n",
    "    print(i)"
   ]
  },
  {
   "cell_type": "code",
   "execution_count": 17,
   "id": "f9b3cc9f",
   "metadata": {},
   "outputs": [
    {
     "data": {
      "text/plain": [
       "107"
      ]
     },
     "execution_count": 17,
     "metadata": {},
     "output_type": "execute_result"
    }
   ],
   "source": [
    "ord('k')"
   ]
  },
  {
   "cell_type": "code",
   "execution_count": 80,
   "id": "6ab1532f",
   "metadata": {},
   "outputs": [
    {
     "data": {
      "text/plain": [
       "'ZABC'"
      ]
     },
     "execution_count": 80,
     "metadata": {},
     "output_type": "execute_result"
    }
   ],
   "source": [
    "def alph(st,kg):\n",
    "    kg=kg%26\n",
    "    out=''\n",
    "    for i in s:\n",
    "        new_val=ord(i)-kg\n",
    "        if new_val<65:\n",
    "            new_val=new_val+26\n",
    "        new_char=chr(new_val)\n",
    "        out=out+new_char\n",
    "    return out\n",
    "st='ABCD'\n",
    "kg=27\n",
    "alph(st,kg)\n",
    "        "
   ]
  },
  {
   "cell_type": "code",
   "execution_count": 81,
   "id": "bf8ea0c2",
   "metadata": {},
   "outputs": [
    {
     "data": {
      "text/plain": [
       "'ZABC'"
      ]
     },
     "execution_count": 81,
     "metadata": {},
     "output_type": "execute_result"
    }
   ],
   "source": [
    "def cyp(inp,p):\n",
    "    p=p%26\n",
    "    out=''\n",
    "    for i in in p:\n",
    "        new_val=ord(i)-p\n",
    "        if new_val<65:\n",
    "            new_val+=26\n",
    "        new_char=chr(new_val)\n",
    "        out=out+new_char\n",
    "    return out\n",
    "st='ABCD'\n",
    "kg=27\n",
    "cyp(st,kg)"
   ]
  },
  {
   "cell_type": "code",
   "execution_count": 83,
   "id": "fa03d86b",
   "metadata": {},
   "outputs": [
    {
     "data": {
      "text/plain": [
       "19"
      ]
     },
     "execution_count": 83,
     "metadata": {},
     "output_type": "execute_result"
    }
   ],
   "source": [
    "def second(bine):\n",
    "    prev=0\n",
    "    cur=1\n",
    "    ans=0\n",
    "    for i in range(1,len(bine)):\n",
    "        if bine[i]!=bine[i-1]:\n",
    "            ans+=min(prev,cur)\n",
    "            prev=cur\n",
    "            cur=1\n",
    "        else:\n",
    "            cur+=1\n",
    "    return ans+min(prev,cur)\n",
    "\n",
    "bine='101000111101010100000111101'\n",
    "second(bine)"
   ]
  },
  {
   "cell_type": "code",
   "execution_count": null,
   "id": "47746741",
   "metadata": {},
   "outputs": [],
   "source": []
  },
  {
   "cell_type": "code",
   "execution_count": null,
   "id": "eaca05f9",
   "metadata": {},
   "outputs": [],
   "source": []
  },
  {
   "cell_type": "code",
   "execution_count": null,
   "id": "e2417461",
   "metadata": {},
   "outputs": [],
   "source": []
  },
  {
   "cell_type": "code",
   "execution_count": null,
   "id": "664da5f7",
   "metadata": {},
   "outputs": [],
   "source": []
  }
 ],
 "metadata": {
  "kernelspec": {
   "display_name": "Python 3 (ipykernel)",
   "language": "python",
   "name": "python3"
  },
  "language_info": {
   "codemirror_mode": {
    "name": "ipython",
    "version": 3
   },
   "file_extension": ".py",
   "mimetype": "text/x-python",
   "name": "python",
   "nbconvert_exporter": "python",
   "pygments_lexer": "ipython3",
   "version": "3.9.7"
  }
 },
 "nbformat": 4,
 "nbformat_minor": 5
}

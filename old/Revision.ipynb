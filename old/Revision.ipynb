{
 "cells": [
  {
   "cell_type": "code",
   "execution_count": null,
   "metadata": {},
   "outputs": [],
   "source": [
    "5 4 3 2 1 \n",
    "4 3 2 1 \n",
    "3 2 1 \n",
    "2 1 \n",
    "1"
   ]
  },
  {
   "cell_type": "code",
   "execution_count": null,
   "metadata": {},
   "outputs": [],
   "source": [
    "def rev(n):\n",
    "    a=1\n",
    "    b=''\n",
    "    while a <=n:\n",
    "        b = b+' '+ str(n)\n",
    "        n = n-1\n",
    "    return b\n",
    "rev(5)"
   ]
  },
  {
   "cell_type": "code",
   "execution_count": null,
   "metadata": {},
   "outputs": [],
   "source": [
    "def num_rev(n):\n",
    "    a=1\n",
    "    b=[]\n",
    "    while a <=n:\n",
    "        b.append(n)\n",
    "        n = n-1\n",
    "    return b\n",
    "num_rev(6)        "
   ]
  },
  {
   "cell_type": "code",
   "execution_count": null,
   "metadata": {},
   "outputs": [],
   "source": [
    "n=5\n",
    "for i in num_rev(n):\n",
    "    c = rev(i)\n",
    "    print(c)"
   ]
  },
  {
   "cell_type": "code",
   "execution_count": null,
   "metadata": {},
   "outputs": [],
   "source": [
    "a= [1,2,3,4,5,6,7]\n",
    "le = len(a)-1\n",
    "c=0\n",
    "b=[]\n",
    "while le >= c:\n",
    "    b.append(a[le])\n",
    "    le = le-1\n",
    "print(b)  "
   ]
  },
  {
   "cell_type": "code",
   "execution_count": null,
   "metadata": {},
   "outputs": [],
   "source": [
    "i=5, range(2,6)"
   ]
  },
  {
   "cell_type": "code",
   "execution_count": null,
   "metadata": {
    "scrolled": true
   },
   "outputs": [],
   "source": [
    "start = 4\n",
    "end = 10\n",
    "for i in range(start,end+1):"
   ]
  },
  {
   "cell_type": "code",
   "execution_count": null,
   "metadata": {},
   "outputs": [],
   "source": [
    "num=9\n",
    "initial =1\n",
    "a=[]\n",
    "while initial <num:\n",
    "    a.append(initial)\n",
    "    initial= initial +1"
   ]
  },
  {
   "cell_type": "code",
   "execution_count": null,
   "metadata": {},
   "outputs": [],
   "source": [
    "a"
   ]
  },
  {
   "cell_type": "code",
   "execution_count": null,
   "metadata": {},
   "outputs": [],
   "source": [
    "for i in a:\n",
    "    if num%i == 0:\n",
    "        if num==i+1:\n",
    "            break"
   ]
  },
  {
   "cell_type": "code",
   "execution_count": null,
   "metadata": {},
   "outputs": [],
   "source": [
    "def is_prime(n):\n",
    "    if n <=3:\n",
    "        return True\n",
    "    else:\n",
    "        for i in range(2,n):\n",
    "            if n%i == 0:\n",
    "                return False\n",
    "print(is_prime(115))"
   ]
  },
  {
   "cell_type": "markdown",
   "metadata": {},
   "source": [
    "# factorial"
   ]
  },
  {
   "cell_type": "code",
   "execution_count": null,
   "metadata": {},
   "outputs": [],
   "source": [
    "n= 5\n",
    "a=1\n",
    "while a <=\n",
    "\n",
    "5*4*3*2*1\n",
    "b = n*a \n",
    "n = b\n",
    "a = a+1\n"
   ]
  },
  {
   "cell_type": "code",
   "execution_count": null,
   "metadata": {},
   "outputs": [],
   "source": [
    "def fact(n):\n",
    "    a=1\n",
    "    c=n\n",
    "    while a<c:\n",
    "        b = n * a\n",
    "        n = b\n",
    "        a = a+1\n",
    "    return b\n",
    "fact(5)        \n"
   ]
  },
  {
   "cell_type": "code",
   "execution_count": null,
   "metadata": {},
   "outputs": [],
   "source": [
    "class myclass():\n",
    "    def __init__(self,a,b):\n",
    "        self.a = a\n",
    "        self.b = b\n",
    "    def addi(self,x):\n",
    "        c=[]\n",
    "        for i in range(5):\n",
    "            c.append(i*x*self.a)\n",
    "        return c\n",
    "ob1 = myclass(6,7)\n",
    "ob1.addi(3)"
   ]
  },
  {
   "cell_type": "code",
   "execution_count": null,
   "metadata": {},
   "outputs": [],
   "source": [
    "def sum_of_natural_num(n):\n",
    "    if n==1:\n",
    "        return 0\n",
    "    else:\n",
    "        out = n+sum_of_natural_num(n-1)\n",
    "        return out\n",
    "sum_of_natural_num(3)"
   ]
  },
  {
   "cell_type": "code",
   "execution_count": null,
   "metadata": {},
   "outputs": [],
   "source": [
    "def fact(n):\n",
    "    if n==1:\n",
    "        return 1\n",
    "    else:\n",
    "        out = n * fact(n-1)\n",
    "        return out\n",
    "fact(4)"
   ]
  },
  {
   "cell_type": "code",
   "execution_count": null,
   "metadata": {},
   "outputs": [],
   "source": [
    "def fib(n):\n",
    "    if n==1:\n",
    "        return 1\n",
    "    if n==2:\n",
    "        return 1\n",
    "    else:\n",
    "        out= fib(n-1) + fib(n-2)\n",
    "        return out\n",
    "fib(6)"
   ]
  },
  {
   "cell_type": "code",
   "execution_count": null,
   "metadata": {},
   "outputs": [],
   "source": []
  },
  {
   "cell_type": "code",
   "execution_count": null,
   "metadata": {},
   "outputs": [],
   "source": [
    "a=3\n",
    "b=4\n",
    "c=[]\n",
    "for i in range(a):\n",
    "    c.append(b)\n",
    "c"
   ]
  },
  {
   "cell_type": "code",
   "execution_count": 6,
   "metadata": {
    "scrolled": true
   },
   "outputs": [
    {
     "name": "stdout",
     "output_type": "stream",
     "text": [
      "[1, 3, 4, 5, 5, 5] [0, 3, 3, 7, 45]\n",
      "[0, 1]\n",
      "[0, 1, 3]\n",
      "[0, 1, 3, 3, 3, 4]\n",
      "[0, 1, 3, 3, 3, 4, 5]\n",
      "[0, 1, 3, 3, 3, 4, 5, 5]\n",
      "[0, 1, 3, 3, 3, 4, 5, 5, 5]\n"
     ]
    },
    {
     "data": {
      "text/plain": [
       "[0, 1, 3, 3, 3, 4, 5, 5, 5, 7, 45]"
      ]
     },
     "execution_count": 6,
     "metadata": {},
     "output_type": "execute_result"
    }
   ],
   "source": [
    "def sorting(x,y):\n",
    "    print(x,y)\n",
    "    z=[]\n",
    "    i=0\n",
    "    j=0\n",
    "    while i<len(x) and j < len(y):\n",
    "        if x[i] <= y[j]:\n",
    "            z.append(x[i])\n",
    "            print(z)\n",
    "            i = i+1\n",
    "        else:\n",
    "            z.append(y[j])\n",
    "            j = j+1\n",
    "    while i<len(x):\n",
    "        z.append(x[i])\n",
    "        i = i+1\n",
    "    while j <len(y):\n",
    "        z.append(y[j])\n",
    "        j = j+1\n",
    "    return z\n",
    "\n",
    "# def divide_an_array(a):\n",
    "#     b=[]\n",
    "#     c=[]\n",
    "#     if len(a)==1:\n",
    "#         return a\n",
    "#     for i in range(len(a)//2):\n",
    "#         b.append(a[i])\n",
    "#     for j in range(len(a)//2,len(a)):\n",
    "#         c.append(a[j])\n",
    "#     b= divide_an_array(b)\n",
    "#     c= divide_an_array(c)\n",
    "# #     print('b is')\n",
    "# #     print(b)\n",
    "# #     print('c is')\n",
    "# #     print(c)\n",
    "#     s = sorting(b,c)\n",
    "#     return s\n",
    "# a=[4,5,3,1,6,5,5,7,7,7,45,3,3,0]\n",
    "# divide_an_array(a)\n",
    "\n",
    "b= [1,3,4,5,5,5]\n",
    "c=[0,3,3,7,45]\n",
    "sorting(b,c)"
   ]
  },
  {
   "cell_type": "code",
   "execution_count": 6,
   "metadata": {},
   "outputs": [
    {
     "data": {
      "text/plain": [
       "((([0], ([5], [1])), (([0], [6]), ([0], [5]))),\n",
       " (([84], ([85], [3])), (([5], [9]), ([0], [4]))))"
      ]
     },
     "execution_count": 6,
     "metadata": {},
     "output_type": "execute_result"
    }
   ],
   "source": [
    "def divide_an_array(a):\n",
    "    b=[]\n",
    "    c=[]\n",
    "    if len(a)==1:\n",
    "        return a\n",
    "    for i in range(len(a)//2):\n",
    "        b.append(a[i])\n",
    "    for j in range(len(a)//2,len(a)):\n",
    "        c.append(a[j])\n",
    "    b= divide_an_array(b)\n",
    "    c= divide_an_array(c)\n",
    "#     print('b is')\n",
    "#     print(b)\n",
    "#     print('c is')\n",
    "#     print(c)\n",
    "#     s = sorting(b,c)\n",
    "    return b,c\n",
    "a=[0,5,1,0,6,0,5,84,85,3,5,9,0,4]\n",
    "divide_an_array(a)"
   ]
  },
  {
   "cell_type": "code",
   "execution_count": 1,
   "metadata": {},
   "outputs": [
    {
     "ename": "SyntaxError",
     "evalue": "cannot assign to literal (<ipython-input-1-85ccbf9381e1>, line 21)",
     "output_type": "error",
     "traceback": [
      "\u001b[0;36m  File \u001b[0;32m\"<ipython-input-1-85ccbf9381e1>\"\u001b[0;36m, line \u001b[0;32m21\u001b[0m\n\u001b[0;31m    i=0, j=0\u001b[0m\n\u001b[0m      ^\u001b[0m\n\u001b[0;31mSyntaxError\u001b[0m\u001b[0;31m:\u001b[0m cannot assign to literal\n"
     ]
    }
   ],
   "source": [
    "def divide(input_array):\n",
    "    first_split=[]\n",
    "    second_split=[]\n",
    "    \n",
    "    if len(input_array)==1:\n",
    "        return input_array\n",
    "    \n",
    "    for i in range(len(input_array)//2):\n",
    "        first_split.append(input_array[i])\n",
    "        \n",
    "    for j in range(len(input_array)//2, len(input_array)):\n",
    "        second_split.append(input_array[j])\n",
    "        \n",
    "    first_split = divide(first_split)\n",
    "    second_split = divide(second_split)\n",
    "    \n",
    "    return first_split, second_split\n",
    "\n",
    "def merge(first_array,second_array):\n",
    "    \n",
    "    i=0, j=0\n",
    "    output=[]\n",
    "    \n",
    "    while i <len(first_array) and j < len(second_array):\n",
    "        if first_array[i] <= second_array[j]:\n",
    "            output.append(first_array[i])\n",
    "            i = i+1\n",
    "        else:\n",
    "            output.append(second_array[i])\n",
    "            j = j+1\n",
    "    \n",
    "    while i < len(first_array):\n",
    "        out.append(first_array[i])\n",
    "        i = i+1\n",
    "        \n",
    "    while j<len(second_array):\n",
    "        out.append(second_array[j])\n",
    "        j = j+1\n",
    "        \n",
    "    return out\n",
    "\n",
    "inp = [4,5,2,7,9,3,7,876,5,456,6,54,67890,98,7654,87,654,3,-6,0,-3,67,890,9,876,543,56,7890,8765,43,0,9876,543]\n",
    "divide(inp)"
   ]
  },
  {
   "cell_type": "code",
   "execution_count": null,
   "metadata": {},
   "outputs": [],
   "source": []
  },
  {
   "cell_type": "code",
   "execution_count": null,
   "metadata": {},
   "outputs": [],
   "source": []
  },
  {
   "cell_type": "code",
   "execution_count": null,
   "metadata": {},
   "outputs": [],
   "source": []
  },
  {
   "cell_type": "code",
   "execution_count": null,
   "metadata": {},
   "outputs": [],
   "source": []
  },
  {
   "cell_type": "code",
   "execution_count": null,
   "metadata": {},
   "outputs": [],
   "source": []
  },
  {
   "cell_type": "code",
   "execution_count": null,
   "metadata": {},
   "outputs": [],
   "source": []
  },
  {
   "cell_type": "code",
   "execution_count": null,
   "metadata": {},
   "outputs": [],
   "source": []
  },
  {
   "cell_type": "code",
   "execution_count": null,
   "metadata": {},
   "outputs": [],
   "source": []
  },
  {
   "cell_type": "code",
   "execution_count": null,
   "metadata": {},
   "outputs": [],
   "source": []
  },
  {
   "cell_type": "code",
   "execution_count": null,
   "metadata": {},
   "outputs": [],
   "source": []
  }
 ],
 "metadata": {
  "kernelspec": {
   "display_name": "Python 3 (ipykernel)",
   "language": "python",
   "name": "python3"
  },
  "language_info": {
   "codemirror_mode": {
    "name": "ipython",
    "version": 3
   },
   "file_extension": ".py",
   "mimetype": "text/x-python",
   "name": "python",
   "nbconvert_exporter": "python",
   "pygments_lexer": "ipython3",
   "version": "3.9.7"
  }
 },
 "nbformat": 4,
 "nbformat_minor": 4
}

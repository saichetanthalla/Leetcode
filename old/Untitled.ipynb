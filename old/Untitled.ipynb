{
 "cells": [
  {
   "cell_type": "code",
   "execution_count": 2,
   "metadata": {},
   "outputs": [
    {
     "ename": "SyntaxError",
     "evalue": "invalid syntax (<ipython-input-2-7c7cd7d31880>, line 10)",
     "output_type": "error",
     "traceback": [
      "\u001b[0;36m  File \u001b[0;32m\"<ipython-input-2-7c7cd7d31880>\"\u001b[0;36m, line \u001b[0;32m10\u001b[0m\n\u001b[0;31m    else:\u001b[0m\n\u001b[0m    ^\u001b[0m\n\u001b[0;31mSyntaxError\u001b[0m\u001b[0;31m:\u001b[0m invalid syntax\n"
     ]
    }
   ],
   "source": [
    "a=[1]\n",
    "a[len(a)-0-1]\n",
    "# print(len(a)//2)\n",
    "def reverse_list(a):\n",
    "    \n",
    "#     if len(a)==1:\n",
    "#         return a\n",
    "    \n",
    "#     elif len(a)%2==0:\n",
    "    else:    \n",
    "#         while i <=len(a)//2:\n",
    "        for i in range(len(a)):\n",
    "#             print(i)\n",
    "            if i >=len(a)//2:\n",
    "                print(i)\n",
    "                return a\n",
    "            else:\n",
    "                temp=a[i]\n",
    "#                 print(a[len(a)-i-1])\n",
    "                a[i]=a[len(a)-i-1]\n",
    "#                 print(a)\n",
    "                a[len(a)-i-1]=temp\n",
    "        return a\n",
    "reverse_list(a)"
   ]
  },
  {
   "cell_type": "code",
   "execution_count": null,
   "metadata": {},
   "outputs": [],
   "source": [
    "a=list(range(10))\n",
    "a[len(a)-0-1]\n",
    "# print(len(a)//2)\n",
    "def reverse_list(a):\n",
    "    \n",
    "#     if len(a)==1:\n",
    "#         return a\n",
    "    \n",
    "#     elif len(a)%2==0:\n",
    "#     else:    \n",
    "#         while i <=len(a)//2:\n",
    "    for i in range(len(a)):\n",
    "    #             print(i)\n",
    "            if i >=len(a)//2:\n",
    "    #                 print(i)\n",
    "                return a\n",
    "            else:\n",
    "                temp=a[i]\n",
    "    #                 print(a[len(a)-i-1])\n",
    "                a[i]=a[len(a)-i-1]\n",
    "    #                 print(a)\n",
    "                a[len(a)-i-1]=temp\n",
    "    return a\n",
    "reverse_list(a)"
   ]
  },
  {
   "cell_type": "code",
   "execution_count": null,
   "metadata": {},
   "outputs": [],
   "source": [
    "a=[1,2,3,4,5,6]\n",
    "b=0\n",
    "def delete (a):\n",
    "    count=0\n",
    "    if b not in a:\n",
    "        return a\n",
    "    \n",
    "    for i in range(len(a)):\n",
    "        if i+1 >=len(a):\n",
    "\n",
    "            return a[:-1]\n",
    "\n",
    "        if a[i] == b:\n",
    "            count=count+1\n",
    "            a[i]=a[i+1]\n",
    "        if count==1:\n",
    "            a[i]=a[i+1]\n",
    "    return out\n",
    "    \n",
    "delete(a)      "
   ]
  },
  {
   "cell_type": "code",
   "execution_count": null,
   "metadata": {},
   "outputs": [],
   "source": [
    "a=[1,2,4,4,5,4,3]\n",
    "out=[]\n",
    "for i in range(len(a)):\n",
    "    if a[i] not in out:\n",
    "        out.append(a[i])\n",
    "out"
   ]
  },
  {
   "cell_type": "code",
   "execution_count": null,
   "metadata": {},
   "outputs": [],
   "source": [
    "class node:\n",
    "    def __init__(self,value):\n",
    "        self.number=value\n",
    "        self.next=None\n",
    "def array_to_linked_list(arr):\n",
    "    root=None\n",
    "    for i in range(len(arr)):\n",
    "        root=insert(root,arr[i])\n",
    "    return root\n",
    "\n",
    "def insert (root,item):\n",
    "    temp=node(item)\n",
    "    \n",
    "    if root==None:\n",
    "        \n",
    "        root=temp\n",
    "#         print(root.number)\n",
    "#         return root\n",
    "    else:\n",
    "        root.next=temp\n",
    "        temp.number=item\n",
    "        temp.next=None\n",
    "        root=temp\n",
    "#     print(root)\n",
    "#     print(root.number)\n",
    "#     print(root.next)\n",
    "    return root\n",
    "\n",
    "def display(root):\n",
    "    while root!=None:\n",
    "        print(root.number)\n",
    "        root=root.next\n",
    "        \n",
    "    \n",
    "if __name__ == '__main__': \n",
    "    arr = [1, 2, 3, 4, 5]; \n",
    "    n = len(arr) \n",
    "    root = array_to_linked_list(arr); \n",
    "    display(root)"
   ]
  },
  {
   "cell_type": "code",
   "execution_count": null,
   "metadata": {},
   "outputs": [],
   "source": [
    "class node:\n",
    "    def __init__(self,value):\n",
    "        self.num=value\n",
    "        self.next=None\n",
    "def arraytolist(arr):\n",
    "    root=None\n",
    "    for i in range(n - 1, -1,-1):\n",
    "        root=insert(root,arr[i])\n",
    "    return root\n",
    "def insert(root,item):\n",
    "    temp=node(0)\n",
    "    temp.num=item\n",
    "    temp.next=root\n",
    "    root=temp\n",
    "    return root\n",
    "def display(root):\n",
    "    while root!=None:\n",
    "        print(root.num)\n",
    "        root=root.next\n",
    "# Driver code\n",
    "if __name__=='__main__': \n",
    "    arr = [1, 2, 30, 4, 5]\n",
    "    n = len(arr)\n",
    "    root = arraytolist(arr)\n",
    "    display(root)\n",
    "    \n",
    "    "
   ]
  },
  {
   "cell_type": "code",
   "execution_count": null,
   "metadata": {},
   "outputs": [],
   "source": [
    "# Swapping an number\n",
    "\n",
    "position=3\n",
    "\n",
    "count=0\n",
    "while count!=position:\n",
    "    head=root\n",
    "    print(head.num)\n",
    "    if count == position -1:\n",
    "        temp=root.next\n",
    "        print(temp.num)\n",
    "        root.next=root.next.next\n",
    "        print(root.next.num)\n",
    "        root.next.next=temp\n",
    "        print(root.next.next.num)\n",
    "    break\n",
    "    count=count+1\n",
    "    root=root.next"
   ]
  },
  {
   "cell_type": "code",
   "execution_count": null,
   "metadata": {},
   "outputs": [],
   "source": []
  },
  {
   "cell_type": "code",
   "execution_count": 15,
   "metadata": {},
   "outputs": [
    {
     "ename": "NameError",
     "evalue": "name 'Error' is not defined",
     "output_type": "error",
     "traceback": [
      "\u001b[0;31m---------------------------------------------------------------------------\u001b[0m",
      "\u001b[0;31mNameError\u001b[0m                                 Traceback (most recent call last)",
      "\u001b[0;32m<ipython-input-15-18fa6c65da13>\u001b[0m in \u001b[0;36m<module>\u001b[0;34m\u001b[0m\n\u001b[1;32m      2\u001b[0m     \u001b[0;32mfor\u001b[0m \u001b[0mi\u001b[0m \u001b[0;32min\u001b[0m \u001b[0mrange\u001b[0m\u001b[0;34m(\u001b[0m\u001b[0;36m1\u001b[0m\u001b[0;34m,\u001b[0m\u001b[0;36m9\u001b[0m\u001b[0;34m)\u001b[0m\u001b[0;34m:\u001b[0m\u001b[0;34m\u001b[0m\u001b[0;34m\u001b[0m\u001b[0m\n\u001b[0;32m----> 3\u001b[0;31m         \u001b[0mprint\u001b[0m\u001b[0;34m(\u001b[0m\u001b[0mie\u001b[0m\u001b[0;34m)\u001b[0m\u001b[0;34m\u001b[0m\u001b[0;34m\u001b[0m\u001b[0m\n\u001b[0m\u001b[1;32m      4\u001b[0m \u001b[0;32mexcept\u001b[0m \u001b[0mError\u001b[0m \u001b[0;32mas\u001b[0m \u001b[0me\u001b[0m\u001b[0;34m:\u001b[0m\u001b[0;34m\u001b[0m\u001b[0;34m\u001b[0m\u001b[0m\n",
      "\u001b[0;31mNameError\u001b[0m: name 'ie' is not defined",
      "\nDuring handling of the above exception, another exception occurred:\n",
      "\u001b[0;31mNameError\u001b[0m                                 Traceback (most recent call last)",
      "\u001b[0;32m<ipython-input-15-18fa6c65da13>\u001b[0m in \u001b[0;36m<module>\u001b[0;34m\u001b[0m\n\u001b[1;32m      2\u001b[0m     \u001b[0;32mfor\u001b[0m \u001b[0mi\u001b[0m \u001b[0;32min\u001b[0m \u001b[0mrange\u001b[0m\u001b[0;34m(\u001b[0m\u001b[0;36m1\u001b[0m\u001b[0;34m,\u001b[0m\u001b[0;36m9\u001b[0m\u001b[0;34m)\u001b[0m\u001b[0;34m:\u001b[0m\u001b[0;34m\u001b[0m\u001b[0;34m\u001b[0m\u001b[0m\n\u001b[1;32m      3\u001b[0m         \u001b[0mprint\u001b[0m\u001b[0;34m(\u001b[0m\u001b[0mie\u001b[0m\u001b[0;34m)\u001b[0m\u001b[0;34m\u001b[0m\u001b[0;34m\u001b[0m\u001b[0m\n\u001b[0;32m----> 4\u001b[0;31m \u001b[0;32mexcept\u001b[0m \u001b[0mError\u001b[0m \u001b[0;32mas\u001b[0m \u001b[0me\u001b[0m\u001b[0;34m:\u001b[0m\u001b[0;34m\u001b[0m\u001b[0;34m\u001b[0m\u001b[0m\n\u001b[0m\u001b[1;32m      5\u001b[0m     \u001b[0mprint\u001b[0m\u001b[0;34m(\u001b[0m\u001b[0me\u001b[0m\u001b[0;34m)\u001b[0m\u001b[0;34m\u001b[0m\u001b[0;34m\u001b[0m\u001b[0m\n\u001b[1;32m      6\u001b[0m \u001b[0;34m\u001b[0m\u001b[0m\n",
      "\u001b[0;31mNameError\u001b[0m: name 'Error' is not defined"
     ]
    }
   ],
   "source": [
    "try:\n",
    "    for i in range(1,9):\n",
    "        print(ie)\n",
    "except Error as e:\n",
    "    print(e)\n",
    "    "
   ]
  },
  {
   "cell_type": "code",
   "execution_count": 26,
   "metadata": {},
   "outputs": [],
   "source": [
    "a=-123\n",
    "stri=str(a)\n",
    "out=''\n",
    "for i in range(len(str(a))-1,-1,-1):\n",
    "    out=out+stri[i]"
   ]
  },
  {
   "cell_type": "code",
   "execution_count": 27,
   "metadata": {},
   "outputs": [
    {
     "data": {
      "text/plain": [
       "'321-'"
      ]
     },
     "execution_count": 27,
     "metadata": {},
     "output_type": "execute_result"
    }
   ],
   "source": [
    "out"
   ]
  },
  {
   "cell_type": "code",
   "execution_count": null,
   "metadata": {},
   "outputs": [],
   "source": []
  },
  {
   "cell_type": "code",
   "execution_count": null,
   "metadata": {},
   "outputs": [],
   "source": []
  },
  {
   "cell_type": "code",
   "execution_count": null,
   "metadata": {},
   "outputs": [],
   "source": []
  },
  {
   "cell_type": "code",
   "execution_count": null,
   "metadata": {},
   "outputs": [],
   "source": [
    "#. Adding a number\n",
    "\n",
    "number_to_be_added=100\n",
    "position_of_node=4\n",
    "\n",
    "new_node=node(number_to_be_added)\n",
    "\n",
    "\n",
    "\n",
    "count=0\n",
    "while count != position_of_node+1:\n",
    "    head=root.next\n",
    "    if count == position_of_node-1:\n",
    "        temp= head.next\n",
    "        head.next=new_node\n",
    "        new_node.next=temp\n",
    "        break\n",
    "    count=count+1\n",
    "    \n",
    "\n",
    "    \n",
    "while root.next!=None:\n",
    "    print(root.num)\n",
    "    root=root.next"
   ]
  },
  {
   "cell_type": "code",
   "execution_count": null,
   "metadata": {},
   "outputs": [],
   "source": [
    "# Deleting a number\n",
    "\n",
    "number_to_delete=30\n",
    "position_of_the_number=3\n",
    "\n",
    "count=0\n",
    "while count!=position_of_the_number:\n",
    "    head=root\n",
    "#     print(count)\n",
    "#     print(head.num)\n",
    "    if count == position_of_the_number-1:\n",
    "#         print(count)\n",
    "        print(head.num)\n",
    "        print(head.next.num)\n",
    "        head.next= head.next\n",
    "        print(head.next.num)\n",
    "        break\n",
    "    count=count+1\n",
    "    root=root.next\n",
    "    \n",
    "    \n",
    "# while root.next!=None:\n",
    "#     print(root.num)\n",
    "#     root=root.next"
   ]
  },
  {
   "cell_type": "code",
   "execution_count": null,
   "metadata": {},
   "outputs": [],
   "source": [
    "# count=1\n",
    "# while count != position_of_node-1:\n",
    "#     root=root.next\n",
    "#     count=count+1\n",
    "# root.next=new_node\n",
    "    \n",
    "\n",
    "\n",
    "\n",
    "# count_previous=1\n",
    "# while count_previous!=position_of_node-1:\n",
    "#     print(root.num)\n",
    "#     root.next=new_node\n",
    "#     print(root.num)\n",
    "#     count_previous=count_previous+1\n",
    "#     root=root.next\n",
    "    \n",
    "# count_current=1\n",
    "# while count_current!=position_of_node:\n",
    "#     new_node.next=root\n",
    "#     count_current=count_current+1\n",
    "#     root=root.next\n",
    "    \n",
    "\n",
    "# while root!=None:\n",
    "#     print(root.num)\n",
    "#     root=root.next\n",
    "\n",
    "# while root.next!=None:\n",
    "#     print(root.num)\n",
    "#     root=root.next"
   ]
  },
  {
   "cell_type": "code",
   "execution_count": null,
   "metadata": {},
   "outputs": [],
   "source": [
    "# number_to_be_added=100\n",
    "# position_of_node=3\n",
    "# # class node:\n",
    "# #     def __init__ (self,value):\n",
    "# #         self.number=value\n",
    "# #         self.next=None\n",
    "# def insert_an_element (number_to_be_added,position_of_node):\n",
    "    \n",
    "#     new_node=node(number_to_be_added)\n",
    "#     print(root)\n",
    "#     count_previous=1\n",
    "#     while count_previous!=position_of_node-1:\n",
    "#         root.next=new_node\n",
    "#     count_previous=count_previous+1\n",
    "#     root=root.next\n",
    "    \n",
    "#     count_current=1\n",
    "#     while count_current!=position_of_node:\n",
    "#         new_node.next=root\n",
    "#         count_current=count_current+1\n",
    "#         root=root.next\n",
    "    \n",
    "    \n",
    "#     while root.next!=None:\n",
    "#         print(root.number)\n",
    "#         root=root.next\n",
    "    \n",
    "# insert_an_element(number_to_be_added,position_of_node)  "
   ]
  },
  {
   "cell_type": "code",
   "execution_count": null,
   "metadata": {},
   "outputs": [],
   "source": [
    "class node:\n",
    "    def __init__(self,value):\n",
    "        self.num=value\n",
    "        self.next=None\n",
    "        \n",
    "def array_to_list(arr):\n",
    "    root=None\n",
    "    for i in range(n - 1, -1,-1):\n",
    "        root=insert(root,arr[i])\n",
    "    return root\n",
    "\n",
    "def insert (root,item):\n",
    "    temp=node(0)\n",
    "    temp.num=item\n",
    "    temp.next=root\n",
    "    root=temp\n",
    "    return root\n",
    "\n",
    "def display(root):\n",
    "    while root!=None:\n",
    "        print(root.num)\n",
    "        root=root.next\n",
    "        \n",
    "# Driver code\n",
    "if __name__=='__main__': \n",
    "    arr = [1, 2, 30, 4, 5]\n",
    "    n = len(arr)\n",
    "    root = array_to_list(arr)\n",
    "    display(root)"
   ]
  },
  {
   "cell_type": "code",
   "execution_count": 17,
   "metadata": {},
   "outputs": [
    {
     "name": "stdout",
     "output_type": "stream",
     "text": [
      "1\n",
      "1\n",
      "2\n",
      "4\n",
      "4\n"
     ]
    }
   ],
   "source": [
    "class node:\n",
    "    def __init__(self,value):\n",
    "        self.num=value\n",
    "        self.next=None\n",
    "def arraytolist(arr):\n",
    "    root=None\n",
    "    for i in range(n - 1, -1,-1):\n",
    "        root=insert(root,arr[i])\n",
    "    return root\n",
    "def insert(root,item):\n",
    "    temp=node(0)\n",
    "    temp.num=item\n",
    "    temp.next=root\n",
    "    root=temp\n",
    "    return root\n",
    "def display(root):\n",
    "    while root!=None:\n",
    "        print(root.num)\n",
    "        root=root.next\n",
    "# Driver code\n",
    "if __name__=='__main__': \n",
    "    arr = [1, 1, 2, 4, 4]\n",
    "    n = len(arr)\n",
    "    root = arraytolist(arr)\n",
    "    display(root)"
   ]
  },
  {
   "cell_type": "code",
   "execution_count": 18,
   "metadata": {},
   "outputs": [
    {
     "name": "stdout",
     "output_type": "stream",
     "text": [
      "1\n"
     ]
    }
   ],
   "source": [
    "print(root.next.num)"
   ]
  },
  {
   "cell_type": "code",
   "execution_count": 19,
   "metadata": {},
   "outputs": [
    {
     "ename": "AttributeError",
     "evalue": "'NoneType' object has no attribute 'num'",
     "output_type": "error",
     "traceback": [
      "\u001b[0;31m---------------------------------------------------------------------------\u001b[0m",
      "\u001b[0;31mAttributeError\u001b[0m                            Traceback (most recent call last)",
      "\u001b[0;32m<ipython-input-19-469af7bff173>\u001b[0m in \u001b[0;36m<module>\u001b[0;34m\u001b[0m\n\u001b[1;32m      2\u001b[0m             \u001b[0;31m# if head.next.val==None:\u001b[0m\u001b[0;34m\u001b[0m\u001b[0;34m\u001b[0m\u001b[0;34m\u001b[0m\u001b[0m\n\u001b[1;32m      3\u001b[0m             \u001b[0;31m#     break\u001b[0m\u001b[0;34m\u001b[0m\u001b[0;34m\u001b[0m\u001b[0;34m\u001b[0m\u001b[0m\n\u001b[0;32m----> 4\u001b[0;31m     \u001b[0mtemp_val\u001b[0m\u001b[0;34m=\u001b[0m\u001b[0mroot\u001b[0m\u001b[0;34m.\u001b[0m\u001b[0mnext\u001b[0m\u001b[0;34m.\u001b[0m\u001b[0mnum\u001b[0m\u001b[0;34m\u001b[0m\u001b[0;34m\u001b[0m\u001b[0m\n\u001b[0m\u001b[1;32m      5\u001b[0m     \u001b[0mtemp_next\u001b[0m\u001b[0;34m=\u001b[0m\u001b[0mroot\u001b[0m\u001b[0;34m.\u001b[0m\u001b[0mnext\u001b[0m\u001b[0;34m.\u001b[0m\u001b[0mnext\u001b[0m\u001b[0;34m\u001b[0m\u001b[0;34m\u001b[0m\u001b[0m\n\u001b[1;32m      6\u001b[0m     \u001b[0;32mif\u001b[0m \u001b[0mroot\u001b[0m\u001b[0;34m.\u001b[0m\u001b[0mnum\u001b[0m\u001b[0;34m==\u001b[0m\u001b[0mtemp_val\u001b[0m\u001b[0;34m:\u001b[0m\u001b[0;34m\u001b[0m\u001b[0;34m\u001b[0m\u001b[0m\n",
      "\u001b[0;31mAttributeError\u001b[0m: 'NoneType' object has no attribute 'num'"
     ]
    }
   ],
   "source": [
    "while root!=None:\n",
    "            # if head.next.val==None:\n",
    "            #     break\n",
    "    temp_val=root.next.num\n",
    "    temp_next=root.next.next\n",
    "    if root.num==temp_val:\n",
    "#         print(root.num, root.next.num)\n",
    "        root.next=temp_next\n",
    "#         print(root.num)\n",
    "                \n",
    "    else:\n",
    "        root=root.next\n",
    "                \n",
    "            # head=head.next\n",
    "            # print(head.val)\n",
    "while root!=None:\n",
    "    print(root.num)\n",
    "    root=root.next\n",
    "        "
   ]
  },
  {
   "cell_type": "code",
   "execution_count": 30,
   "metadata": {},
   "outputs": [
    {
     "name": "stdout",
     "output_type": "stream",
     "text": [
      "[1, 2, 4, 6]\n"
     ]
    }
   ],
   "source": [
    "a=[1,1,1,2,4,4,6]\n",
    "i=0\n",
    "while i!=len(a):\n",
    "    if i+1>=len(a):\n",
    "        break\n",
    "    if a[i]==a[i+1]:\n",
    "        a.pop(i+1)\n",
    "        \n",
    "    else:\n",
    "        i=i+1\n",
    "print(a)"
   ]
  },
  {
   "cell_type": "code",
   "execution_count": 8,
   "metadata": {},
   "outputs": [
    {
     "name": "stdout",
     "output_type": "stream",
     "text": [
      "1\n",
      "2\n",
      "3\n",
      "4\n"
     ]
    }
   ],
   "source": [
    "class node:\n",
    "    def __init__(self,val):\n",
    "        self.num=val\n",
    "        self.next=None\n",
    "def array_to_llist(arr):\n",
    "    head=None\n",
    "    for i in range(len(arr)-1,-1,-1):\n",
    "        head=insert(head,arr[i])\n",
    "    return head\n",
    "def insert(head,item):\n",
    "    temp=node(0)\n",
    "    temp.num=item\n",
    "    temp.next=head\n",
    "    head=temp\n",
    "    return head\n",
    "def display(head):\n",
    "    while head!=None:\n",
    "        print(head.num)\n",
    "        head=head.next\n",
    "if __name__=='__main__':\n",
    "    arr=[1,2,3,4]\n",
    "    head=array_to_llist(arr)\n",
    "    display(head)"
   ]
  },
  {
   "cell_type": "code",
   "execution_count": null,
   "metadata": {},
   "outputs": [],
   "source": [
    "class node1:\n",
    "    def __init__(self,val):\n",
    "        self.num=val\n",
    "        self.next=None\n",
    "        \n",
    "def arr_to_list(arr):\n",
    "    root=None\n",
    "    for i in range(len(arr)):\n",
    "        root=insert(root,arr[i])\n",
    "    return root\n",
    "\n",
    "def insert(root,item):\n",
    "    "
   ]
  },
  {
   "cell_type": "code",
   "execution_count": 12,
   "metadata": {},
   "outputs": [],
   "source": [
    "import cassandra"
   ]
  },
  {
   "cell_type": "code",
   "execution_count": 13,
   "metadata": {},
   "outputs": [
    {
     "ename": "ImportError",
     "evalue": "cannot import name 'cluster' from 'cassandra.cluster' (/opt/anaconda3/lib/python3.8/site-packages/cassandra/cluster.cpython-38-darwin.so)",
     "output_type": "error",
     "traceback": [
      "\u001b[0;31m---------------------------------------------------------------------------\u001b[0m",
      "\u001b[0;31mImportError\u001b[0m                               Traceback (most recent call last)",
      "\u001b[0;32m<ipython-input-13-f3f15497e72b>\u001b[0m in \u001b[0;36m<module>\u001b[0;34m\u001b[0m\n\u001b[0;32m----> 1\u001b[0;31m \u001b[0;32mfrom\u001b[0m \u001b[0mcassandra\u001b[0m\u001b[0;34m.\u001b[0m\u001b[0mcluster\u001b[0m \u001b[0;32mimport\u001b[0m \u001b[0mcluster\u001b[0m\u001b[0;34m\u001b[0m\u001b[0;34m\u001b[0m\u001b[0m\n\u001b[0m",
      "\u001b[0;31mImportError\u001b[0m: cannot import name 'cluster' from 'cassandra.cluster' (/opt/anaconda3/lib/python3.8/site-packages/cassandra/cluster.cpython-38-darwin.so)"
     ]
    }
   ],
   "source": [
    "from cassandra.cluster import cluster"
   ]
  },
  {
   "cell_type": "code",
   "execution_count": null,
   "metadata": {},
   "outputs": [],
   "source": []
  }
 ],
 "metadata": {
  "kernelspec": {
   "display_name": "Python 3",
   "language": "python",
   "name": "python3"
  },
  "language_info": {
   "codemirror_mode": {
    "name": "ipython",
    "version": 3
   },
   "file_extension": ".py",
   "mimetype": "text/x-python",
   "name": "python",
   "nbconvert_exporter": "python",
   "pygments_lexer": "ipython3",
   "version": "3.8.5"
  }
 },
 "nbformat": 4,
 "nbformat_minor": 4
}

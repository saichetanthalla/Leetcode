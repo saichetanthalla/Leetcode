{
 "cells": [
  {
   "cell_type": "code",
   "execution_count": null,
   "metadata": {},
   "outputs": [],
   "source": [
    "a= [1,2,3,4,5]"
   ]
  },
  {
   "cell_type": "code",
   "execution_count": null,
   "metadata": {},
   "outputs": [],
   "source": [
    "for i in a:\n",
    "    for j in a:\n",
    "        print(j)"
   ]
  },
  {
   "cell_type": "markdown",
   "metadata": {},
   "source": [
    "#"
   ]
  },
  {
   "cell_type": "markdown",
   "metadata": {},
   "source": [
    "# \n",
    "Input: nums = [1,2,3,4]\n",
    "Output: [1,3,6,10]\n",
    "Explanation: Running sum is obtained as follows: [1, 1+2, 1+2+3, 1+2+3+4]."
   ]
  },
  {
   "cell_type": "code",
   "execution_count": null,
   "metadata": {},
   "outputs": [],
   "source": [
    "nums=[1,2,3,4]\n",
    "a=0\n",
    "c=0\n",
    "b=[]"
   ]
  },
  {
   "cell_type": "code",
   "execution_count": null,
   "metadata": {},
   "outputs": [],
   "source": [
    "while a < len(nums):\n",
    "    c = c + nums[a]\n",
    "    b.append(c)\n",
    "    a=a+1"
   ]
  },
  {
   "cell_type": "code",
   "execution_count": null,
   "metadata": {},
   "outputs": [],
   "source": [
    "b"
   ]
  },
  {
   "cell_type": "code",
   "execution_count": null,
   "metadata": {},
   "outputs": [],
   "source": [
    "for i in range(len(nums)):\n",
    "    a= a+nums[i]\n",
    "    b.append(a)\n",
    "print(b)"
   ]
  },
  {
   "cell_type": "markdown",
   "metadata": {},
   "source": [
    "#\n",
    "Input: nums = [2,5,1,3,4,7], n = 3\n",
    "Output: [2,3,5,4,1,7] \n",
    "Explanation: Since x1=2, x2=5, x3=1, y1=3, y2=4, y3=7 then the answer is [2,3,5,4,1,7]."
   ]
  },
  {
   "cell_type": "code",
   "execution_count": null,
   "metadata": {},
   "outputs": [],
   "source": [
    "nums= [2,5,1,3,4,7]\n",
    "n=3\n",
    "a=0\n",
    "b=[]"
   ]
  },
  {
   "cell_type": "code",
   "execution_count": null,
   "metadata": {},
   "outputs": [],
   "source": [
    "while a <  n:\n",
    "    b.append(nums[a])\n",
    "    b.append(nums[a+n])\n",
    "    a = a + 1"
   ]
  },
  {
   "cell_type": "code",
   "execution_count": null,
   "metadata": {},
   "outputs": [],
   "source": [
    "b"
   ]
  },
  {
   "cell_type": "code",
   "execution_count": null,
   "metadata": {},
   "outputs": [],
   "source": [
    "for i in range(len(a)):\n",
    "    if i+n ==len(a):\n",
    "        break\n",
    "    b.append(a[i])\n",
    "    b.append(a[i+n])\n",
    "    print(b)           "
   ]
  },
  {
   "cell_type": "code",
   "execution_count": null,
   "metadata": {},
   "outputs": [],
   "source": []
  },
  {
   "cell_type": "code",
   "execution_count": null,
   "metadata": {},
   "outputs": [],
   "source": [
    "def fun2(a):\n",
    "    i=1\n",
    "    while i<=a:\n",
    "        i=i+1\n",
    "        print('Hello world')\n",
    "\n",
    "def fun(a,b):\n",
    "    n=0\n",
    "    while n<b:\n",
    "        n=n+1\n",
    "        fun2(a)\n",
    "        print('=============')\n",
    "fun(10,-1)    "
   ]
  },
  {
   "cell_type": "code",
   "execution_count": null,
   "metadata": {},
   "outputs": [],
   "source": [
    "a=2,b=2\n",
    "n=0\n",
    "0<2\n",
    "n=1\n",
    "fun2(1)\n",
    "1<=1\n",
    "i=2\n",
    "\"hello\"\n",
    "while \"false\"\n",
    "======\n",
    "1<2\n",
    "n=2\n",
    "fun2(2)\n",
    "i=1\n",
    "1<=2\n",
    "i=2\n",
    "\"hello\"\n",
    "2<=2\n",
    "i=3\n",
    "\"hello\"\n",
    "====\n",
    "2!<2\n",
    "break"
   ]
  },
  {
   "cell_type": "code",
   "execution_count": null,
   "metadata": {},
   "outputs": [],
   "source": [
    "hello\n",
    "===\n",
    "hello\n",
    "hello\n",
    "=="
   ]
  },
  {
   "cell_type": "code",
   "execution_count": null,
   "metadata": {},
   "outputs": [],
   "source": [
    "for i in range(0,10):\n",
    "    print(i)\n"
   ]
  },
  {
   "cell_type": "code",
   "execution_count": null,
   "metadata": {},
   "outputs": [],
   "source": [
    "z=-10\n",
    "while z<10:\n",
    "    print(z)\n",
    "    z = z+1"
   ]
  },
  {
   "cell_type": "code",
   "execution_count": null,
   "metadata": {},
   "outputs": [],
   "source": [
    "z=0"
   ]
  },
  {
   "cell_type": "code",
   "execution_count": null,
   "metadata": {},
   "outputs": [],
   "source": [
    "if z<=10:\n",
    "    print(z)\n",
    "#     z=z+1\n",
    "if z<=10:\n",
    "    print(z)\n",
    "#     z=z+1"
   ]
  },
  {
   "cell_type": "code",
   "execution_count": null,
   "metadata": {},
   "outputs": [],
   "source": [
    "mat = [[1,2,3],\n",
    "       [4,5,6],\n",
    "       [7,8,9]]"
   ]
  },
  {
   "cell_type": "code",
   "execution_count": null,
   "metadata": {},
   "outputs": [],
   "source": [
    "mat = [[1,2,3,4],\n",
    "       [4,5,6,4],\n",
    "       [7,8,9,4],\n",
    "       [7,8,9,4]]"
   ]
  },
  {
   "cell_type": "code",
   "execution_count": null,
   "metadata": {},
   "outputs": [],
   "source": [
    "a=0\n",
    "b=0\n",
    "while a < len(mat):\n",
    "    b = b + mat[a][a]\n",
    "    b= b + mat[a][len(mat)-a-1]\n",
    "    a = a+1\n",
    "if len(mat)%2 !=0:\n",
    "    b = b - mat[len(mat)//2][len(mat)//2]"
   ]
  },
  {
   "cell_type": "code",
   "execution_count": null,
   "metadata": {},
   "outputs": [],
   "source": [
    "b"
   ]
  },
  {
   "cell_type": "code",
   "execution_count": null,
   "metadata": {},
   "outputs": [],
   "source": [
    "len(mat)%2"
   ]
  },
  {
   "cell_type": "markdown",
   "metadata": {},
   "source": [
    "### Exercise Question 1: Print First 10 natural numbers using while loop"
   ]
  },
  {
   "cell_type": "code",
   "execution_count": null,
   "metadata": {},
   "outputs": [],
   "source": [
    "a= 10\n",
    "b=0\n",
    "while b <=a:\n",
    "    print(b)\n",
    "    b = b+1"
   ]
  },
  {
   "cell_type": "markdown",
   "metadata": {},
   "source": [
    "### Exercise Question 2: Print the following pattern\n",
    "1 \n",
    "1 2 \n",
    "1 2 3 \n",
    "1 2 3 4 \n",
    "1 2 3 4 5"
   ]
  },
  {
   "cell_type": "code",
   "execution_count": null,
   "metadata": {},
   "outputs": [],
   "source": [
    "a=5\n",
    "b=1\n",
    "while b <= a:\n",
    "    for i in range(b):\n",
    "        print(i+1)\n",
    "    b = b+1"
   ]
  },
  {
   "cell_type": "code",
   "execution_count": null,
   "metadata": {},
   "outputs": [],
   "source": [
    "n=5\n",
    "a=1\n",
    "while a <=n:\n",
    "    c=''\n",
    "    for i in range(a):\n",
    "        c= c +str(i+1)\n",
    "    print(c)\n",
    "    a=a+1"
   ]
  },
  {
   "cell_type": "markdown",
   "metadata": {},
   "source": [
    "### Question 3: Accept number from user and calculate the sum of all number between 1 and given number"
   ]
  },
  {
   "cell_type": "code",
   "execution_count": null,
   "metadata": {},
   "outputs": [],
   "source": [
    "a=10\n",
    "b=1\n",
    "c=0\n",
    "while b <=a:\n",
    "    c=c+b\n",
    "    b = b + 1     "
   ]
  },
  {
   "cell_type": "code",
   "execution_count": null,
   "metadata": {},
   "outputs": [],
   "source": [
    "c"
   ]
  },
  {
   "cell_type": "markdown",
   "metadata": {},
   "source": [
    "### Exercise Question 4: Print multiplication table of given number"
   ]
  },
  {
   "cell_type": "code",
   "execution_count": null,
   "metadata": {},
   "outputs": [],
   "source": [
    "a=5\n",
    "b=1\n",
    "while b <= 10:\n",
    "    print(b*a)\n",
    "    b=b+1"
   ]
  },
  {
   "cell_type": "markdown",
   "metadata": {},
   "source": [
    "### Exercise Question 5: Given a list iterate it and display numbers which are divisible by 5 and\n",
    "### if you find number greater than 150 stop the loop iteration"
   ]
  },
  {
   "cell_type": "code",
   "execution_count": null,
   "metadata": {},
   "outputs": [],
   "source": [
    "a= [12,15,32,42,55,75,122,132,150,180,200]"
   ]
  },
  {
   "cell_type": "code",
   "execution_count": null,
   "metadata": {},
   "outputs": [],
   "source": [
    "c=0\n",
    "d=[]\n",
    "while a[c] <= 150:\n",
    "    if a[c]%5 == 0:\n",
    "        d.append(a[c])\n",
    "    c = c+1"
   ]
  },
  {
   "cell_type": "code",
   "execution_count": null,
   "metadata": {},
   "outputs": [],
   "source": [
    "d"
   ]
  },
  {
   "cell_type": "markdown",
   "metadata": {},
   "source": [
    "### Exercise Question 6: Given a number count the total number of digits in a number"
   ]
  },
  {
   "cell_type": "code",
   "execution_count": null,
   "metadata": {},
   "outputs": [],
   "source": [
    "a=1000\n",
    "a=str(a)\n",
    "len(a)"
   ]
  },
  {
   "cell_type": "code",
   "execution_count": null,
   "metadata": {},
   "outputs": [],
   "source": [
    "If  is odd, print Weird\n",
    "If  is even and in the inclusive range of  to , print Not Weird\n",
    "If  is even and in the inclusive range of  to , print Weird\n",
    "If  is even and greater than , print Not Weird"
   ]
  },
  {
   "cell_type": "code",
   "execution_count": null,
   "metadata": {},
   "outputs": [],
   "source": []
  },
  {
   "cell_type": "code",
   "execution_count": null,
   "metadata": {},
   "outputs": [],
   "source": [
    "def h(x,y):\n",
    "    z = x*y\n",
    "    return z\n",
    "\n",
    "def g(x,y):\n",
    "    z = x/y + h(x,y)\n",
    "    return z\n",
    "\n",
    "\n",
    "def f(x,y):\n",
    "    z = x+ g(x,y)\n",
    "    return z\n",
    "x=1\n",
    "y=2\n",
    "z = f(x,y)"
   ]
  },
  {
   "cell_type": "code",
   "execution_count": null,
   "metadata": {},
   "outputs": [],
   "source": [
    "z = f(x,y)\n",
    "z = x+ g(x,y)\n",
    "z = x + x/y +h(x,y)\n",
    "z = x + x/y +(x*y)"
   ]
  },
  {
   "cell_type": "code",
   "execution_count": null,
   "metadata": {},
   "outputs": [],
   "source": [
    "a =2\n",
    "def num(a):\n",
    "    if a%2 == 0:\n",
    "        return True\n",
    "    else:\n",
    "        return ('Hello Worls')\n",
    "b = num(a)\n",
    "print(type(b))"
   ]
  },
  {
   "cell_type": "code",
   "execution_count": null,
   "metadata": {},
   "outputs": [],
   "source": [
    "b"
   ]
  },
  {
   "cell_type": "code",
   "execution_count": null,
   "metadata": {},
   "outputs": [],
   "source": []
  },
  {
   "cell_type": "code",
   "execution_count": null,
   "metadata": {},
   "outputs": [],
   "source": [
    "n= 5\n",
    "a=''\n",
    "for i in range(n):\n",
    "    b= str(i+1)\n",
    "    a=a+b\n",
    "print(a)"
   ]
  },
  {
   "cell_type": "code",
   "execution_count": null,
   "metadata": {},
   "outputs": [],
   "source": [
    "a=1\n",
    "1<=5\n",
    "i in range (a) -- 1\n",
    "c = \"\" + 1\n",
    "1\n",
    "a= 2\n",
    "2<=5\n",
    "i in range(2) ---- 0,1\n",
    "c = 1 + 2\n",
    "c = 12\n",
    "a= 3\n",
    "3<="
   ]
  },
  {
   "cell_type": "code",
   "execution_count": null,
   "metadata": {},
   "outputs": [],
   "source": [
    "Exercise Question 7: Print the following pattern using for loop\n",
    "5 4 3 2 1 \n",
    "4 3 2 1 \n",
    "3 2 1 \n",
    "2 1 \n",
    "1"
   ]
  },
  {
   "cell_type": "code",
   "execution_count": null,
   "metadata": {},
   "outputs": [],
   "source": [
    "\n",
    "a = ran(1,5)\n",
    "c=''\n",
    "for i in a:\n",
    "    c =c +' '+ str(i)\n",
    "    print(c)"
   ]
  },
  {
   "cell_type": "code",
   "execution_count": null,
   "metadata": {},
   "outputs": [],
   "source": [
    "def list_to_str(n):\n",
    "    c=''\n",
    "    for i in n:\n",
    "        c =c +' '+ str(i)\n",
    "    return c \n",
    "\n",
    "\n",
    "def lop(n):\n",
    "#     print(ran_rev(1,5))\n",
    "#     print(ran_rev(1,4))\n",
    "#     print(ran_rev(1,3))\n",
    "#     print(ran_rev(1,2))\n",
    "#     print(ran_rev(1,1))\n",
    "    while n >= 1 :\n",
    "        x = ran_rev(1,n)\n",
    "        y = list_to_str(x)\n",
    "        print(y)\n",
    "        n = n-1   \n",
    "lop(5)"
   ]
  },
  {
   "cell_type": "code",
   "execution_count": null,
   "metadata": {},
   "outputs": [],
   "source": [
    "a=10\n",
    "\n",
    "while"
   ]
  },
  {
   "cell_type": "code",
   "execution_count": null,
   "metadata": {},
   "outputs": [],
   "source": [
    "def ran(a,b):\n",
    "    c=[]\n",
    "    while a<b:\n",
    "        c.append(a)\n",
    "        a = a+1\n",
    "    return c\n",
    "print(ran(0,5))"
   ]
  },
  {
   "cell_type": "code",
   "execution_count": null,
   "metadata": {},
   "outputs": [],
   "source": [
    "def ran_rev(a,b):\n",
    "    d=[]\n",
    "    while a<=b:\n",
    "        d.append(b)\n",
    "        b = b-1\n",
    "    return d\n",
    "ran_rev(1,5)"
   ]
  },
  {
   "cell_type": "code",
   "execution_count": null,
   "metadata": {},
   "outputs": [],
   "source": [
    "for i in range(0,5):\n",
    "    print(i)\n",
    "for i in ran(0,5):\n",
    "    print(i)\n",
    "for i in [0,1,2,3,4]:\n",
    "    print(i)"
   ]
  },
  {
   "cell_type": "code",
   "execution_count": null,
   "metadata": {},
   "outputs": [],
   "source": [
    "def list_rev(a):\n",
    "    lengh_of_a = len(a)-1\n",
    "    reversed_list=[]\n",
    "    while lengh_of_a >=0:\n",
    "        reversed_list.append(a[lengh_of_a])\n",
    "        lengh_of_a = lengh_of_a - 1\n",
    "    list_to_string =''\n",
    "    initial = 0\n",
    "    while initial < len(reversed_list):\n",
    "        list_to_string = list_to_string + str(reversed_list[initial]) + ' '\n",
    "        initial = initial + 1\n",
    "    return list_to_string\n",
    "list_rev([1,2,3,4])"
   ]
  },
  {
   "cell_type": "code",
   "execution_count": null,
   "metadata": {},
   "outputs": [],
   "source": [
    "def disp(n1,n2):\n",
    "    while n1 <= n2:\n",
    "        print(n1)\n",
    "        n1 = n1 + 1\n",
    "disp(-10,-1)    "
   ]
  },
  {
   "cell_type": "code",
   "execution_count": null,
   "metadata": {},
   "outputs": [],
   "source": [
    "def is_prime(n):\n",
    "    if n <=3:\n",
    "        return True\n",
    "    else:\n",
    "        for i in range(2,n):\n",
    "            if n%i == 0:\n",
    "                return False\n",
    "print(is_prime(7))\n",
    "\n",
    "def all_primes(n):\n",
    "    count = 0\n",
    "    for i in range(1,n):\n",
    "        a = is_prime(i)\n",
    "        if a==True:\n",
    "            count = count+1\n",
    "        else:\n",
    "            count = count"
   ]
  },
  {
   "cell_type": "code",
   "execution_count": null,
   "metadata": {},
   "outputs": [],
   "source": [
    "def is_prime(n):\n",
    "    if n <=3:\n",
    "        return True\n",
    "    else:\n",
    "        for i in range(2,n):\n",
    "            if n%i == 0:\n",
    "                return False\n",
    "print(is_prime(7))"
   ]
  },
  {
   "cell_type": "code",
   "execution_count": null,
   "metadata": {},
   "outputs": [],
   "source": [
    "a=0\n",
    "b=1\n",
    "c=[0,1]\n",
    "while len(c) < 10:\n",
    "    d= a+b\n",
    "    c.append(d)\n",
    "    a=b\n",
    "    b=d\n",
    "print(c)"
   ]
  },
  {
   "cell_type": "code",
   "execution_count": null,
   "metadata": {},
   "outputs": [],
   "source": [
    "def fact(n):\n",
    "    a=1\n",
    "    b=n\n",
    "    while a < b:\n",
    "        c= n*a\n",
    "        n=c\n",
    "        a = a+1\n",
    "    return c\n",
    "print(fact(5))\n",
    "        "
   ]
  },
  {
   "cell_type": "code",
   "execution_count": null,
   "metadata": {},
   "outputs": [],
   "source": [
    "def num_str(n):\n",
    "    to_str = str(n)\n",
    "    stri=[]\n",
    "    for i in to_str:\n",
    "        stri.append(int(i))\n",
    "    return stri\n",
    "\n",
    "def rev(a):\n",
    "    b=''\n",
    "    c=len(a)\n",
    "    for i in a:\n",
    "        if i<=len(a):\n",
    "            b = b+ (str(a[c-1]))\n",
    "            c= c-1\n",
    "    return int(b)\n",
    "rev(num_str(1233456675432))"
   ]
  },
  {
   "cell_type": "code",
   "execution_count": null,
   "metadata": {},
   "outputs": [],
   "source": [
    "num= 6\n",
    "for i in range (1,num+1):\n",
    "    if i <= num:\n",
    "        print(i, i*i*i)"
   ]
  },
  {
   "cell_type": "code",
   "execution_count": null,
   "metadata": {},
   "outputs": [],
   "source": [
    "def series(n):\n",
    "    a=1\n",
    "    b=[]\n",
    "    while a<=n:\n",
    "        b.append(int(a*'2'))\n",
    "        a = a+1\n",
    "    return sum(b)\n",
    "series(5)"
   ]
  },
  {
   "cell_type": "code",
   "execution_count": null,
   "metadata": {},
   "outputs": [],
   "source": [
    "my_list = [10, 20, 30, 40, 50, 60, 70, 80, 90, 100]\n",
    "len(my_list)"
   ]
  },
  {
   "cell_type": "code",
   "execution_count": null,
   "metadata": {},
   "outputs": [],
   "source": [
    "for i in range(1,len(my_list)+1):\n",
    "    if i%2 == 0:\n",
    "        print(my_list[i-1])"
   ]
  },
  {
   "cell_type": "code",
   "execution_count": null,
   "metadata": {},
   "outputs": [],
   "source": []
  },
  {
   "cell_type": "code",
   "execution_count": null,
   "metadata": {},
   "outputs": [],
   "source": [
    "def pat(n):\n",
    "    a=1\n",
    "    b=[]\n",
    "    c=n\n",
    "    while a <= n:\n",
    "        b.append(a* '*')\n",
    "        a =a+1\n",
    "#         print(b)\n",
    "    a=1\n",
    "    while c > a:\n",
    "#         print(c)\n",
    "        b.append((c-1)*'*')\n",
    "        c= c-1\n",
    "#         print(b)\n",
    "    return b\n",
    "pat(5)"
   ]
  },
  {
   "cell_type": "code",
   "execution_count": null,
   "metadata": {},
   "outputs": [],
   "source": [
    "for i in pat(5):\n",
    "    print(i)"
   ]
  },
  {
   "cell_type": "markdown",
   "metadata": {},
   "source": [
    "# zframez"
   ]
  },
  {
   "cell_type": "code",
   "execution_count": null,
   "metadata": {},
   "outputs": [],
   "source": [
    "# Write a python program to print the square of all numbers from 0 to 10\n",
    "\n",
    "def sqr(n):\n",
    "    a= 1\n",
    "    while a <=10:\n",
    "        print(a*a)\n",
    "        a = a + 1\n",
    "sqr(10)"
   ]
  },
  {
   "cell_type": "code",
   "execution_count": null,
   "metadata": {},
   "outputs": [],
   "source": [
    "# 2. Write a python program to find the sum of all even numbers from 0 to 10\n",
    "def sum_even(10):\n",
    "    a=[]\n",
    "    for i in range(10):\n",
    "        print()"
   ]
  },
  {
   "cell_type": "code",
   "execution_count": null,
   "metadata": {},
   "outputs": [],
   "source": [
    "a=[]\n",
    "for i in range(10):\n",
    "    print()"
   ]
  },
  {
   "cell_type": "code",
   "execution_count": null,
   "metadata": {},
   "outputs": [],
   "source": [
    "# Input: word1 = [\"ab\", \"c\"], word2 = [\"a\", \"bc\"]\n",
    "def join(word):\n",
    "    a=''\n",
    "    b= len(word)\n",
    "    c=0\n",
    "    while c<b:\n",
    "        a= a + word[c]\n",
    "        c= c+1\n",
    "    return a\n",
    "def comp(word1, word2):\n",
    "    if join(word1) == join(word2):\n",
    "        return True\n",
    "    else:\n",
    "        return False\n",
    "word1 = [\"ab\", \"c\"]\n",
    "word2 = [\"a\", \"bc\"]\n",
    "comp(word1, word2)"
   ]
  },
  {
   "cell_type": "code",
   "execution_count": null,
   "metadata": {},
   "outputs": [],
   "source": [
    "# 2. Write a python program to find the sum of all even numbers from 0 to 10\n",
    "b=10\n",
    "c=[]\n",
    "for i in range(0,b+1):\n",
    "    c.append(i)\n",
    "a=[]\n",
    "for i in c:\n",
    "    if c[i]%2 == 0:\n",
    "        a.append(c[i])\n",
    "print(sum(a))"
   ]
  },
  {
   "cell_type": "code",
   "execution_count": null,
   "metadata": {},
   "outputs": [],
   "source": [
    "# Write a python program to read three numbers (a,b,c) and check how many numbers between ‘a’ and ‘b’ are divisible by ‘c’\n",
    "a= [1,9,3]\n",
    "b = a[0]\n",
    "c= a[1]\n",
    "d= a[2]\n",
    "count=0\n",
    "for i in range(b,c):\n",
    "    if i % d == 0:\n",
    "        count = count+1\n",
    "print(count)"
   ]
  },
  {
   "cell_type": "code",
   "execution_count": null,
   "metadata": {
    "scrolled": true
   },
   "outputs": [],
   "source": [
    "# 4. Write a python program to get the following output\n",
    "\n",
    "# 1-----99\n",
    "\n",
    "# 2-----98\n",
    "\n",
    "# 3-----97\n",
    "\n",
    "a=100\n",
    "b=list(range(1,a))\n",
    "for i in b:\n",
    "    c= \"{}-----{}\"\n",
    "    print(c.format(i, a-1))\n",
    "    a=a-1"
   ]
  },
  {
   "cell_type": "code",
   "execution_count": null,
   "metadata": {},
   "outputs": [],
   "source": [
    "# 5. Write a python program to read a number and print the binary of that number \n",
    "# (hint: if ‘a’ is a string , a[::-1] will be reverse of that string)\n",
    "def str_rev(n):\n",
    "    c=[]\n",
    "    e=''\n",
    "    d= len(n)\n",
    "    for i in n:\n",
    "        c.append(i)\n",
    "    for i in c:\n",
    "        e= e+c[d-1]\n",
    "        d = d-1\n",
    "        if d<0:\n",
    "            break\n",
    "    return e\n",
    "\n",
    "def bin(a):\n",
    "    b=''\n",
    "    while 1 <= a:\n",
    "        c= a%2\n",
    "        a = a//2\n",
    "        b = b+ str(c)\n",
    "    return(int(str_rev(b)))\n",
    "\n",
    "bin(6)"
   ]
  },
  {
   "cell_type": "code",
   "execution_count": null,
   "metadata": {},
   "outputs": [],
   "source": [
    "# 6. Write a python program to read four numbers (representing the four octets of an IP) and print the next five IP address"
   ]
  },
  {
   "cell_type": "code",
   "execution_count": null,
   "metadata": {},
   "outputs": [],
   "source": [
    "# 7. Write a python program to print the factorial of a given number\n",
    "def fact(n):\n",
    "    a=1\n",
    "    b=1\n",
    "    while a < n:\n",
    "        d= b*(n)\n",
    "        b = d\n",
    "        n= n-1\n",
    "    return d\n",
    "fact(5)"
   ]
  },
  {
   "cell_type": "code",
   "execution_count": null,
   "metadata": {},
   "outputs": [],
   "source": [
    "# 8. Write a python program to print the first 10 numbers Fibonacci series\n",
    "def fib(n):\n",
    "    a=1\n",
    "    b=0\n",
    "    c=[0]\n",
    "    while len(c) < n:\n",
    "        d= b + a\n",
    "        a=b\n",
    "        b=d\n",
    "        c.append(d)\n",
    "    return c\n",
    "fib(10)      "
   ]
  },
  {
   "cell_type": "code",
   "execution_count": null,
   "metadata": {},
   "outputs": [],
   "source": [
    "# 9. Write a python program to read a number and print a right triangle using \"*\"\n",
    "def tria(n):\n",
    "    a=1\n",
    "    b=[]\n",
    "    while a <= n:\n",
    "        b.append(a* \"*\")\n",
    "        a =a+1\n",
    "    return b \n",
    "\n",
    "def pattern(n):\n",
    "    for i in n:\n",
    "        print(i)\n",
    "pattern(tria(5))"
   ]
  },
  {
   "cell_type": "code",
   "execution_count": null,
   "metadata": {},
   "outputs": [],
   "source": [
    "# leetcode string 1108\n",
    "# address = \"1.1.1.1\"\n",
    "# Output: \"1[.]1[.]1[.]1\"\n",
    "def str_replace(address):\n",
    "    out = ''\n",
    "    for i in address:\n",
    "        if i == '.':\n",
    "            out= out + ('[.]')\n",
    "        out = out+ i\n",
    "    return out\n",
    "\n",
    "address = \"1.1.1.1\"\n",
    "str_replace(address)"
   ]
  },
  {
   "cell_type": "code",
   "execution_count": null,
   "metadata": {},
   "outputs": [],
   "source": [
    "def str_rep(address):\n",
    "    out = ''\n",
    "    b= address\n",
    "    i=0\n",
    "    c=''\n",
    "    a= list(range(len(address)))\n",
    "    while i < len(address):\n",
    "        if b[i] == '.':\n",
    "            c = c+'[.]'\n",
    "            i = i+1\n",
    "            print(c)\n",
    "        c= c+b[i]\n",
    "        i = i+1\n",
    "    return c\n",
    "add = \"1.1.1.1\"\n",
    "str_rep(add)"
   ]
  },
  {
   "cell_type": "code",
   "execution_count": null,
   "metadata": {},
   "outputs": [],
   "source": [
    "i=b\n",
    "b=c\n",
    "i=c"
   ]
  },
  {
   "cell_type": "code",
   "execution_count": null,
   "metadata": {},
   "outputs": [],
   "source": [
    "# leetcode string 1678\n",
    "# command = \"G()())()()(al)\"\n",
    "# Output: \"Gooooal\"\n",
    "def leet1678(n):\n",
    "    a=''\n",
    "    b= list(range(len(n)))\n",
    "    i=0\n",
    "    while i < len(n):\n",
    "        if n[i]=='(' and n[i+1] == ')':\n",
    "#             print(n[i],n[i+1])\n",
    "            a= a + 'o'\n",
    "            i=i+2\n",
    "        elif n[i]=='(' and n[i]!=')':  \n",
    "            i=i+1\n",
    "        elif n[i]==')' and n[i]!='(':  \n",
    "            i=i+1\n",
    "        else:\n",
    "            a= a+n[i]\n",
    "            i=i+1\n",
    "    return a\n",
    "\n",
    "command = \"G()(al)\"\n",
    "\n",
    "leet1678(command)\n",
    "        "
   ]
  },
  {
   "cell_type": "code",
   "execution_count": null,
   "metadata": {},
   "outputs": [],
   "source": [
    "# leetcode 1684\n",
    "# Input: allowed = \"ab\", words = [\"ad\",\"bd\",\"aaab\",\"baa\",\"badab\"]\n",
    "# Output: 2\n",
    "# Explanation: Strings \"aaab\" and \"baa\" are consistent since they only contain characters 'a' and 'b'.\n",
    "allowed = \"abc\"\n",
    "words = [\"a\",\"b\",\"c\",\"ab\",\"ac\",\"bc\",\"abc\"]\n",
    "a= allowed\n",
    "b= len(words)\n",
    "count=0\n",
    "l1 = []\n",
    "for i in a:\n",
    "    l1.append(i)\n",
    "#     print(l1)\n",
    "for word in words:\n",
    "#     print(i)\n",
    "    for j in range(len(word)):\n",
    "#         print(j)\n",
    "        if word[j] in l1:\n",
    "            if j == len(word)-1:\n",
    "#                 print(word)\n",
    "                count = count+1\n",
    "            continue\n",
    "        \n",
    "        else:\n",
    "            break\n",
    "print(count)\n",
    "#     print(i)\n",
    "#         if i == l1:\n",
    "#             continue\n",
    "#             if i == l2:\n",
    "#                 continue\n",
    "#         print(i)\n",
    "\n",
    "            \n",
    "\n",
    "\n",
    "\n",
    "\n"
   ]
  },
  {
   "cell_type": "code",
   "execution_count": null,
   "metadata": {},
   "outputs": [],
   "source": [
    "a= 'a'\n",
    "b=['a','b']\n",
    "if a in b:\n",
    "    print('y')"
   ]
  },
  {
   "cell_type": "code",
   "execution_count": null,
   "metadata": {},
   "outputs": [],
   "source": [
    "c= 'aad'\n",
    "l1='a'\n",
    "l2='b'\n",
    "a=0\n",
    "while a <= len(c):\n",
    "    for i in c:\n",
    "        if i == l1 or i==l2:\n",
    "            continue\n",
    "        else:\n",
    "            c = c\n",
    "    print(i)\n",
    "\n",
    "\n",
    "\n",
    "\n",
    "\n",
    "\n",
    "\n",
    "\n",
    "\n",
    "# if l1 or l1 in c:\n",
    "# #     print('yes')\n",
    "# for i in c:\n",
    "#     if i <= len(c):\n",
    "#         if i == l1 or i == l2:\n",
    "#             continue\n",
    "#         print(i)\n",
    "#         else:\n",
    "#             print('nope')\n",
    "    "
   ]
  },
  {
   "cell_type": "code",
   "execution_count": null,
   "metadata": {},
   "outputs": [],
   "source": [
    "words = [\"ad\",\"bd\",\"aaab\",\"baa\",\"badab\"]\n",
    "l='ab'\n",
    "for i in words:\n",
    "    if l in i:\n",
    "        print(i)"
   ]
  },
  {
   "cell_type": "code",
   "execution_count": null,
   "metadata": {},
   "outputs": [],
   "source": [
    "s = \"codeleet\"\n",
    "indices = [4,5,6,7,0,2,1,3]\n",
    "dict={}\n",
    "for i in range(len(indices)):\n",
    "    dict[indices[i]] = s[i]\n",
    "    print(dict)"
   ]
  },
  {
   "cell_type": "code",
   "execution_count": null,
   "metadata": {},
   "outputs": [],
   "source": [
    "dict[7]"
   ]
  },
  {
   "cell_type": "code",
   "execution_count": null,
   "metadata": {},
   "outputs": [],
   "source": [
    "b=''\n",
    "for i in range(0,8):\n",
    "    b= b+ str(dict[i])"
   ]
  },
  {
   "cell_type": "code",
   "execution_count": null,
   "metadata": {},
   "outputs": [],
   "source": [
    "c=[]\n",
    "for i in range(0,9):\n",
    "    c[i] = i"
   ]
  },
  {
   "cell_type": "code",
   "execution_count": null,
   "metadata": {},
   "outputs": [],
   "source": [
    "class myclass:\n",
    "    def __init__(self): \n",
    "        pass\n",
    "    def addition(self):\n",
    "        c=self.a+self.b\n",
    "        return c\n",
    "cl= myclass(1,2)\n",
    "cl.a =10\n",
    "cl.a"
   ]
  },
  {
   "cell_type": "code",
   "execution_count": null,
   "metadata": {},
   "outputs": [],
   "source": [
    "class emptya:\n",
    "    def __init__(self):\n",
    "        self.a= None\n",
    "    def set_a(self,a):\n",
    "        self.a = a\n",
    "        \n",
    "    def get_a (self):\n",
    "        return self.a\n",
    "e= emptya()\n",
    "e.set_a(1)\n",
    "#e.get_a\n",
    "e.a"
   ]
  },
  {
   "cell_type": "code",
   "execution_count": null,
   "metadata": {},
   "outputs": [],
   "source": [
    "def max(a):\n",
    "    \n",
    "    for i in range(len(a)):\n",
    "        for j in range(len(a)):\n",
    "#             out= a[i]\n",
    "            if i==j:\n",
    "                pass\n",
    "            elif a[i]>=a[j]:\n",
    "                out= a[i]\n",
    "    return out\n",
    "b=[3,2,1]\n",
    "max(b)\n",
    "\n",
    "\n"
   ]
  },
  {
   "cell_type": "code",
   "execution_count": null,
   "metadata": {},
   "outputs": [],
   "source": [
    "def max(a):\n",
    "    out=a[0]\n",
    "    for i in range(len(a)):\n",
    "#         if i+1 >= len(a):\n",
    "#             break\n",
    "        if out >= a[i]:\n",
    "            continue\n",
    "        else:\n",
    "            out=a[i]\n",
    "    return out\n",
    "b=[3,2,1]\n",
    "max(b)"
   ]
  },
  {
   "cell_type": "code",
   "execution_count": null,
   "metadata": {},
   "outputs": [],
   "source": [
    "a=[1,2,3]\n",
    "b= list(range(len(a)))"
   ]
  },
  {
   "cell_type": "code",
   "execution_count": null,
   "metadata": {},
   "outputs": [],
   "source": [
    "b"
   ]
  },
  {
   "cell_type": "code",
   "execution_count": null,
   "metadata": {},
   "outputs": [],
   "source": [
    "#  def mini(a)\n",
    "nums= [5,2,6,1]\n",
    "out=list(range(len(nums)))\n",
    "print(out)\n",
    "for i in range(len(nums)):\n",
    "    print(nums[i])\n",
    "    count=0\n",
    "    for j in range(i+1, len(nums)):\n",
    "        print(nums[j])\n",
    "        if i+1 >len(nums):\n",
    "            break\n",
    "        if nums[i] > nums[j]:\n",
    "            print(nums[i])\n",
    "            print(nums[j])\n",
    "            count= count+1\n",
    "            print(count)\n",
    "            out[i] = count\n",
    "            print(out)\n",
    "        else:\n",
    "            out[i]=count\n",
    "            print(out)"
   ]
  },
  {
   "cell_type": "code",
   "execution_count": null,
   "metadata": {},
   "outputs": [],
   "source": [
    "nums= [3,2,4,7]\n",
    "val=3\n",
    "out= []\n",
    "for i in nums:\n",
    "    if i!=val:\n",
    "        out.append(i)\n",
    "#         print(i)\n",
    "    else:\n",
    "        pass\n",
    "print(out)"
   ]
  },
  {
   "cell_type": "code",
   "execution_count": 3,
   "metadata": {},
   "outputs": [
    {
     "data": {
      "text/plain": [
       "[2, 1, 2, 7]"
      ]
     },
     "execution_count": 3,
     "metadata": {},
     "output_type": "execute_result"
    }
   ],
   "source": [
    "b=[1,2,2,7]\n",
    "b.pop(1)\n",
    "b.insert(0,2)\n",
    "b"
   ]
  },
  {
   "cell_type": "code",
   "execution_count": 43,
   "metadata": {},
   "outputs": [
    {
     "name": "stdout",
     "output_type": "stream",
     "text": [
      "[0, 0, 1, 2, 2, 3, 0, 4, 2]\n",
      "[1, 0, 1, 2, 2, 3, 0, 4, 2]\n",
      "[3, 1, 0, 2, 2, 3, 0, 4, 2]\n",
      "[0, 3, 1, 0, 2, 2, 0, 4, 2]\n",
      "[4, 0, 3, 1, 0, 2, 2, 4, 2]\n"
     ]
    },
    {
     "data": {
      "text/plain": [
       "[4, 0, 3, 1, 0, 2, 2, 2]"
      ]
     },
     "execution_count": 43,
     "metadata": {},
     "output_type": "execute_result"
    }
   ],
   "source": [
    "a=[0,1,2,2,3,0,4,2]\n",
    "b=2\n",
    "\n",
    "for i in range(len(a)):\n",
    "\n",
    "    if a[i]==b:\n",
    "        pass\n",
    "        \n",
    "    else:\n",
    "        a.insert(0,a[i])\n",
    "        print(a)\n",
    "        a.pop(i+1)\n",
    "        \n",
    "        \n",
    "#         a.pop(i)\n",
    "#     else:\n",
    "#         pass\n",
    "a"
   ]
  },
  {
   "cell_type": "code",
   "execution_count": null,
   "metadata": {},
   "outputs": [],
   "source": [
    "[0,1,4,0,3]"
   ]
  },
  {
   "cell_type": "code",
   "execution_count": null,
   "metadata": {},
   "outputs": [],
   "source": [
    "class operations:\n",
    "    def __init__(self,array):\n",
    "        self.array= array\n",
    "    def addition(array):\n",
    "        b=0\n",
    "        for i in range(len(array)):\n",
    "            b= b + array[i]\n",
    "        return b\n",
    "    def multi(array):\n",
    "        b=1\n",
    "        for i in range(len(array)):\n",
    "            b= b * array[i]\n",
    "        return b\n",
    "    def divi()\n",
    "a= [1,93]\n",
    "operations.multi(a)"
   ]
  },
  {
   "cell_type": "code",
   "execution_count": 30,
   "metadata": {},
   "outputs": [
    {
     "name": "stdout",
     "output_type": "stream",
     "text": [
      "1\n"
     ]
    },
    {
     "ename": "IndexError",
     "evalue": "list index out of range",
     "output_type": "error",
     "traceback": [
      "\u001b[1;31m---------------------------------------------------------------------------\u001b[0m",
      "\u001b[1;31mIndexError\u001b[0m                                Traceback (most recent call last)",
      "\u001b[1;32m<ipython-input-30-895037a56839>\u001b[0m in \u001b[0;36m<module>\u001b[1;34m\u001b[0m\n\u001b[0;32m      6\u001b[0m     \u001b[1;32mfor\u001b[0m \u001b[0mj\u001b[0m \u001b[1;32min\u001b[0m \u001b[0mrange\u001b[0m\u001b[1;33m(\u001b[0m\u001b[0mi\u001b[0m\u001b[1;33m+\u001b[0m\u001b[1;36m1\u001b[0m\u001b[1;33m,\u001b[0m\u001b[0mlen\u001b[0m\u001b[1;33m(\u001b[0m\u001b[0ma\u001b[0m\u001b[1;33m)\u001b[0m\u001b[1;33m)\u001b[0m\u001b[1;33m:\u001b[0m\u001b[1;33m\u001b[0m\u001b[1;33m\u001b[0m\u001b[0m\n\u001b[0;32m      7\u001b[0m         \u001b[0mprint\u001b[0m\u001b[1;33m(\u001b[0m\u001b[0mi\u001b[0m\u001b[1;33m+\u001b[0m\u001b[1;36m1\u001b[0m\u001b[1;33m)\u001b[0m\u001b[1;33m\u001b[0m\u001b[1;33m\u001b[0m\u001b[0m\n\u001b[1;32m----> 8\u001b[1;33m         \u001b[1;32mif\u001b[0m \u001b[0ma\u001b[0m\u001b[1;33m[\u001b[0m\u001b[0mi\u001b[0m\u001b[1;33m]\u001b[0m\u001b[1;33m<=\u001b[0m\u001b[0mb\u001b[0m\u001b[1;33m[\u001b[0m\u001b[0mj\u001b[0m\u001b[1;33m]\u001b[0m\u001b[1;33m:\u001b[0m\u001b[1;33m\u001b[0m\u001b[1;33m\u001b[0m\u001b[0m\n\u001b[0m\u001b[0;32m      9\u001b[0m             \u001b[1;32mpass\u001b[0m\u001b[1;33m\u001b[0m\u001b[1;33m\u001b[0m\u001b[0m\n\u001b[0;32m     10\u001b[0m         \u001b[1;32melse\u001b[0m\u001b[1;33m:\u001b[0m\u001b[1;33m\u001b[0m\u001b[1;33m\u001b[0m\u001b[0m\n",
      "\u001b[1;31mIndexError\u001b[0m: list index out of range"
     ]
    }
   ],
   "source": [
    "# sorting\n",
    "a=[0,9,1,2,2,5,9]\n",
    "for i in range(len(a)):\n",
    "    if i+1>=len(a):\n",
    "        break\n",
    "    for j in range(i+1,len(a)):\n",
    "        print(i+1)\n",
    "        if a[i]<=b[j]:\n",
    "            pass\n",
    "        else:\n",
    "            pass\n",
    "            \n",
    "            "
   ]
  },
  {
   "cell_type": "code",
   "execution_count": 22,
   "metadata": {},
   "outputs": [],
   "source": [
    "b=[]\n",
    "a=[1,2,3]\n",
    "for i in range(len(a)):\n",
    "    b.append(a[i])"
   ]
  },
  {
   "cell_type": "code",
   "execution_count": 40,
   "metadata": {},
   "outputs": [
    {
     "data": {
      "text/plain": [
       "[10, 20, 30]"
      ]
     },
     "execution_count": 40,
     "metadata": {},
     "output_type": "execute_result"
    }
   ],
   "source": [
    "def remove_ith_elememt(input_array,index):\n",
    "    b= []\n",
    "    for i in range(len(input_array)):\n",
    "        if i==index:\n",
    "            pass\n",
    "        else:\n",
    "#             print(input_array[i])\n",
    "            b.append(input_array[i])\n",
    "    return b\n",
    "input_array= [10,20,30,50]\n",
    "index = 3\n",
    "remove_ith_elememt(input_array,index)"
   ]
  },
  {
   "cell_type": "code",
   "execution_count": 42,
   "metadata": {},
   "outputs": [
    {
     "data": {
      "text/plain": [
       "[40, 3, 5, 68]"
      ]
     },
     "execution_count": 42,
     "metadata": {},
     "output_type": "execute_result"
    }
   ],
   "source": [
    "def remove_element(input_array, element):\n",
    "    b=[]\n",
    "    for i in range(len(input_array)):\n",
    "        if input_array[i]== element:\n",
    "            pass\n",
    "        else:\n",
    "            b.append(input_array[i])\n",
    "    return b\n",
    "input_array = [40,3,5,7,68]\n",
    "element = 7\n",
    "remove_element(input_array, element)"
   ]
  },
  {
   "cell_type": "code",
   "execution_count": null,
   "metadata": {},
   "outputs": [],
   "source": [
    "def a"
   ]
  },
  {
   "cell_type": "code",
   "execution_count": 39,
   "metadata": {},
   "outputs": [
    {
     "data": {
      "text/plain": [
       "[1, 2, 3]"
      ]
     },
     "execution_count": 39,
     "metadata": {},
     "output_type": "execute_result"
    }
   ],
   "source": [
    "b=[]\n",
    "a=[1,2,3]\n",
    "for i in a:\n",
    "    b.append(i)\n",
    "b"
   ]
  },
  {
   "cell_type": "code",
   "execution_count": 62,
   "metadata": {},
   "outputs": [
    {
     "name": "stdout",
     "output_type": "stream",
     "text": [
      "1\n",
      "[3, 1, 1, 6, 64, 9]\n",
      "[3, 1, 6, 6, 64, 9]\n",
      "[3, 1, 6, 64, 64, 9]\n",
      "[3, 1, 6, 64, 9, 9]\n"
     ]
    },
    {
     "data": {
      "text/plain": [
       "[3, 1, 6, 64, 9]"
      ]
     },
     "execution_count": 62,
     "metadata": {},
     "output_type": "execute_result"
    }
   ],
   "source": [
    "def pop(input_array, index):\n",
    "    count=0\n",
    "    for i in range(len(input_array)):\n",
    "        if i+1>=len(input_array):\n",
    "            break\n",
    "        if i == index:\n",
    "            count=count+1\n",
    "            print(count)\n",
    "            pass\n",
    "        elif count==1:\n",
    "            input_array[i] = input_array[i+1]\n",
    "            print(input_array)\n",
    "            pass\n",
    "        elif count==0:\n",
    "            input_array[i]= input_array[i]\n",
    "            print(input_array)\n",
    "            pass\n",
    "    return input_array[:-1]\n",
    "\n",
    "input_array = [3,5,1,6,64,9]\n",
    "index = 0\n",
    "pop(input_array, index)"
   ]
  },
  {
   "cell_type": "code",
   "execution_count": 54,
   "metadata": {},
   "outputs": [
    {
     "data": {
      "text/plain": [
       "15"
      ]
     },
     "execution_count": 54,
     "metadata": {},
     "output_type": "execute_result"
    }
   ],
   "source": [
    "def test(n):\n",
    "    out=0\n",
    "    for i in range(n+1):\n",
    "        out = out+i\n",
    "    return out\n",
    "test(5)"
   ]
  },
  {
   "cell_type": "code",
   "execution_count": 31,
   "metadata": {},
   "outputs": [
    {
     "data": {
      "text/plain": [
       "-55"
      ]
     },
     "execution_count": 31,
     "metadata": {},
     "output_type": "execute_result"
    }
   ],
   "source": [
    "def sum_natural_upto_n(n):\n",
    "    if n<0:\n",
    "        n = (-n)*((-n)+1)//2\n",
    "        return -n\n",
    "    else: \n",
    "        n = n*(n+1)//2\n",
    "        return n\n",
    "sum_natural_upto_n(-10)"
   ]
  },
  {
   "cell_type": "code",
   "execution_count": 60,
   "metadata": {},
   "outputs": [
    {
     "data": {
      "text/plain": [
       "-45"
      ]
     },
     "execution_count": 60,
     "metadata": {},
     "output_type": "execute_result"
    }
   ],
   "source": [
    "def sum_between(n1,n2):\n",
    "    first= sum_natural_upto_n(n1)\n",
    "    second = sum_natural_upto_n(n2)\n",
    "    out= second-first\n",
    "    return out\n",
    "sum_between(-10,0)"
   ]
  },
  {
   "cell_type": "code",
   "execution_count": 60,
   "metadata": {},
   "outputs": [
    {
     "name": "stdout",
     "output_type": "stream",
     "text": [
      "0\n",
      "0\n",
      "1\n",
      "2\n",
      "[2, 4, 4, 4]\n"
     ]
    }
   ],
   "source": [
    "#letcode 1313\n",
    "nums=[1,2,3,4]\n",
    "i=0\n",
    "out=[]\n",
    "while i<len(nums):\n",
    "            # freq= nums[i]\n",
    "            # print(freq)\n",
    "            # value= nums[i+1]\n",
    "            # print(value)\n",
    "    for j in range(nums[i]):\n",
    "        print(j)\n",
    "        out.append(nums[i+1])\n",
    "    i = i+2\n",
    "print(out)"
   ]
  },
  {
   "cell_type": "code",
   "execution_count": null,
   "metadata": {},
   "outputs": [],
   "source": []
  }
 ],
 "metadata": {
  "kernelspec": {
   "display_name": "Python 3 (ipykernel)",
   "language": "python",
   "name": "python3"
  },
  "language_info": {
   "codemirror_mode": {
    "name": "ipython",
    "version": 3
   },
   "file_extension": ".py",
   "mimetype": "text/x-python",
   "name": "python",
   "nbconvert_exporter": "python",
   "pygments_lexer": "ipython3",
   "version": "3.9.7"
  }
 },
 "nbformat": 4,
 "nbformat_minor": 4
}

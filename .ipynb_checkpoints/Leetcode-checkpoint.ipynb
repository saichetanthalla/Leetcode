{
 "cells": [
  {
   "cell_type": "code",
   "execution_count": null,
   "id": "f0f334e6",
   "metadata": {},
   "outputs": [],
   "source": [
    "a=[0,1,2,3,5,7,9]\n",
    "x=3\n",
    "for i in range(len(a)):\n",
    "#     print(a[i])\n",
    "    for j in range(len(a)):\n",
    "        if i==j:\n",
    "            pass\n",
    "        if a[i]+a[j]==x:\n",
    "#             print(i)\n",
    "            print(a[i],a[j])       \n",
    "#         break"
   ]
  },
  {
   "cell_type": "code",
   "execution_count": null,
   "id": "b73d06ea",
   "metadata": {},
   "outputs": [],
   "source": [
    "a=[0,1,2,3,5,7,9]\n",
    "x=3\n",
    "\n",
    "for i in range(len(a)):\n",
    "    if a[i]>x:\n",
    "        q=a[:i]\n",
    "        break\n",
    "map1={}\n",
    "for j in range(len(q)):\n",
    "    if q[j] in map1.keys():\n",
    "        print(j,map1[j])\n",
    "    else:\n",
    "        diff=x-q[j]\n",
    "        map1[diff]=j"
   ]
  },
  {
   "cell_type": "code",
   "execution_count": null,
   "id": "6d1f13f4",
   "metadata": {},
   "outputs": [],
   "source": [
    "a=1\n",
    "b=2\n",
    "n=5\n",
    "m=5\n",
    "j=0\n",
    "mat=[[],[]]\n",
    "mat[[0][0]]=1\n",
    "mat[[0][1]]=2   \n",
    "# for i in range(n):\n",
    "#     if i in range(2) and j in range(2):\n",
    "#         mat[i][j]==\n",
    "mat"
   ]
  },
  {
   "cell_type": "code",
   "execution_count": null,
   "id": "97bd69ce",
   "metadata": {},
   "outputs": [],
   "source": [
    "class custom_matrix:\n",
    "    def __init__"
   ]
  },
  {
   "cell_type": "code",
   "execution_count": null,
   "id": "efa160ca",
   "metadata": {},
   "outputs": [],
   "source": [
    "row=[]\n",
    "a=0\n",
    "b=1\n",
    "def fib(a,b,m):\n",
    "    for i in range(m):\n",
    "        x=a+b\n",
    "        row.append(a)\n",
    "        a=b\n",
    "        b=x\n",
    "    print(row)\n",
    "fib(a,b,10)"
   ]
  },
  {
   "cell_type": "code",
   "execution_count": null,
   "id": "90edd7b2",
   "metadata": {},
   "outputs": [],
   "source": [
    "def incriment_of_numbers(a,b,i):\n",
    "    a=a+i\n",
    "    b=b+i\n",
    "\n"
   ]
  },
  {
   "cell_type": "code",
   "execution_count": null,
   "id": "2022a715",
   "metadata": {},
   "outputs": [],
   "source": [
    "def divide(arr):\n",
    "    left=[]\n",
    "    right=[]\n",
    "    if len(arr)==1:\n",
    "        return arr\n",
    "    else:\n",
    "        for i in range(int(len(arr)/2)):\n",
    "            left.append(arr[i])\n",
    "        for j in range(int(len(arr)/2),len(arr)):\n",
    "            right.append(arr[j])\n",
    "#         print(left, right)\n",
    "        left= divide(left)\n",
    "        right= divide(right)\n",
    "    return left, right\n",
    "arr=[4,5,3,1,6,5,5,7,7,7,45,3,3,0]\n",
    "divide(arr)"
   ]
  },
  {
   "cell_type": "code",
   "execution_count": null,
   "id": "106f22bb",
   "metadata": {},
   "outputs": [],
   "source": [
    "def divide(arr):\n",
    "    left=[]\n",
    "    right=[]\n",
    "    if len(arr)==1:\n",
    "        return arr\n",
    "    else:\n",
    "        for i in range(int(len(arr)/2)):\n",
    "            left.append(arr[i])\n",
    "        for j in range(int(len(arr)/2),len(arr)):\n",
    "            right.append(arr[j])\n",
    "#         print(left, right)\n",
    "        left= divide(left)\n",
    "        right= divide(right)\n",
    "        y=merge(left,right)\n",
    "    return y\n",
    "\n",
    "def merge(left,right):\n",
    "    out=[]\n",
    "    i=0\n",
    "    j=0\n",
    "    while i<len(left) and j <len(right):\n",
    "#         print(left[i])\n",
    "#         print(right[j])\n",
    "            \n",
    "        if left[i]<=right[j]:\n",
    "            out.append(left[i])\n",
    "#             print(out)\n",
    "            i+=1\n",
    "        else:\n",
    "            out.append(right[j])\n",
    "            j+=1\n",
    "#     print(i)\n",
    "    while i<len(left):\n",
    "        out.append(left[i])\n",
    "        i+=1\n",
    "#     print(j)\n",
    "    while j<len(right):\n",
    "        out.append(right[j])\n",
    "        j+=1\n",
    "    return out\n",
    "\n",
    "\n",
    "# def divide_an_array(a):\n",
    "#     b=[]\n",
    "#     c=[]\n",
    "#     if len(a)==1:\n",
    "#         return a\n",
    "#     for i in range(len(a)//2):\n",
    "#         b.append(a[i])\n",
    "#     for j in range(len(a)//2,len(a)):\n",
    "#         c.append(a[j])\n",
    "#     b= divide_an_array(b)\n",
    "#     c= divide_an_array(c)\n",
    "# #     print('b is')\n",
    "# #     print(b)\n",
    "# #     print('c is')\n",
    "# #     print(c)\n",
    "#     s = merge(b,c)\n",
    "#     return s\n",
    "\n",
    "# a=[4,5,3,1,6,5,5,7,7,7,45,3,3,0]\n",
    "# divide_an_array(a)\n",
    "\n",
    "arr=[4,5,3,1,6,5,5,7,7,7,45,3,3,0]\n",
    "# left= [1,3,4,5,5,5]\n",
    "# right=[0,3,3,7,45]\n",
    "# merge(left,right)\n",
    "divide(arr)"
   ]
  },
  {
   "cell_type": "code",
   "execution_count": 26,
   "id": "2dacb41b",
   "metadata": {},
   "outputs": [
    {
     "data": {
      "text/plain": [
       "((([4], ([5], [3])), (([1], [6]), ([5], [5]))),\n",
       " (([7], ([7], [7])), (([45], [3]), ([3], [0]))))"
      ]
     },
     "execution_count": 26,
     "metadata": {},
     "output_type": "execute_result"
    }
   ],
   "source": [
    "def div(arr):\n",
    "    left=[]\n",
    "    right=[]\n",
    "    if len(arr)==1:\n",
    "        return arr\n",
    "    else:\n",
    "        for i in range(len(arr)//2):\n",
    "            left.append(arr[i])\n",
    "        for j in range(len(arr)//2,len(arr)):\n",
    "            right.append(arr[j])\n",
    "    left=div(left)\n",
    "    right=div(right)\n",
    "#     final=sort(left,right)\n",
    "    return left, right\n",
    "\n",
    "# def sort(left,right):\n",
    "#     out=[]\n",
    "#     i=0\n",
    "#     j=0\n",
    "#     while i<len(left) and j<len(right):\n",
    "#         print(left[i])\n",
    "#         print(right[j])\n",
    "#         if left[i]<=right[j]:\n",
    "#             out.append(left[i])\n",
    "#             i+=1\n",
    "#         else:\n",
    "#             out.append(right[j])\n",
    "#             j+=1\n",
    "#     while i<len(left):\n",
    "#         out.append(left[i])\n",
    "#         i+=1\n",
    "#     while j<len(right):\n",
    "#         out.append(right[j])\n",
    "#         j+=1\n",
    "#     return out\n",
    "ar=[4,5,3,1,6,5,5,7,7,7,45,3,3,0]\n",
    "div(ar)        "
   ]
  },
  {
   "cell_type": "code",
   "execution_count": 28,
   "id": "aeaf4555",
   "metadata": {},
   "outputs": [],
   "source": [
    "#Binary Search\n",
    "array=[0, 1, 3, 3, 3, 4, 5, 5, 5, 6, 7, 7, 7, 45]\n",
    "x=0\n",
    "def binary_search(array,x):\n",
    "    for i in range(len(array)):\n",
    "        mid=len(array)//2\n",
    "        if len(array)==1 and x in array:\n",
    "            return True\n",
    "        if array[mid]==x:\n",
    "            return True\n",
    "        else:\n",
    "            new_array_left=array[:mid]\n",
    "            new_array_right=array[mid:]\n",
    "        \n",
    "        binary_search(new_array_left,x)\n",
    "        binary_search(new_array_right,x)\n",
    "#     return('not there')\n",
    "#     print(new_array_left)\n",
    "#     print(new_array_right)\n",
    "binary_search(array,x)"
   ]
  },
  {
   "cell_type": "code",
   "execution_count": 34,
   "id": "beecd82b",
   "metadata": {},
   "outputs": [],
   "source": [
    "array=[0, 1, 3, 3, 3, 4, 5, 5, 5, 6, 7, 7, 7, 45]\n",
    "x=45\n",
    "def binary(array,x):\n",
    "    if len(array)==1 and x == array[0]:\n",
    "        return array\n",
    "    mid=len(array)//2\n",
    "    if array[mid]==x:\n",
    "        return mid\n",
    "    elif array[mid]<x:\n",
    "        return binary(array[:mid],x)\n",
    "    else:\n",
    "        return binary(array[mid:],x)\n"
   ]
  },
  {
   "cell_type": "code",
   "execution_count": 35,
   "id": "ec7d0b85",
   "metadata": {},
   "outputs": [
    {
     "ename": "IndexError",
     "evalue": "list index out of range",
     "output_type": "error",
     "traceback": [
      "\u001b[0;31m---------------------------------------------------------------------------\u001b[0m",
      "\u001b[0;31mIndexError\u001b[0m                                Traceback (most recent call last)",
      "\u001b[0;32m/var/folders/c2/8w8zm3y54dv4brkh8h3y2_k80000gn/T/ipykernel_1929/3476808671.py\u001b[0m in \u001b[0;36m<module>\u001b[0;34m\u001b[0m\n\u001b[0;32m----> 1\u001b[0;31m \u001b[0mbinary\u001b[0m\u001b[0;34m(\u001b[0m\u001b[0marray\u001b[0m\u001b[0;34m,\u001b[0m\u001b[0mx\u001b[0m\u001b[0;34m)\u001b[0m\u001b[0;34m\u001b[0m\u001b[0;34m\u001b[0m\u001b[0m\n\u001b[0m",
      "\u001b[0;32m/var/folders/c2/8w8zm3y54dv4brkh8h3y2_k80000gn/T/ipykernel_1929/125318921.py\u001b[0m in \u001b[0;36mbinary\u001b[0;34m(array, x)\u001b[0m\n\u001b[1;32m      8\u001b[0m         \u001b[0;32mreturn\u001b[0m \u001b[0mmid\u001b[0m\u001b[0;34m\u001b[0m\u001b[0;34m\u001b[0m\u001b[0m\n\u001b[1;32m      9\u001b[0m     \u001b[0;32melif\u001b[0m \u001b[0marray\u001b[0m\u001b[0;34m[\u001b[0m\u001b[0mmid\u001b[0m\u001b[0;34m]\u001b[0m\u001b[0;34m<\u001b[0m\u001b[0mx\u001b[0m\u001b[0;34m:\u001b[0m\u001b[0;34m\u001b[0m\u001b[0;34m\u001b[0m\u001b[0m\n\u001b[0;32m---> 10\u001b[0;31m         \u001b[0;32mreturn\u001b[0m \u001b[0mbinary\u001b[0m\u001b[0;34m(\u001b[0m\u001b[0marray\u001b[0m\u001b[0;34m[\u001b[0m\u001b[0;34m:\u001b[0m\u001b[0mmid\u001b[0m\u001b[0;34m]\u001b[0m\u001b[0;34m,\u001b[0m\u001b[0mx\u001b[0m\u001b[0;34m)\u001b[0m\u001b[0;34m\u001b[0m\u001b[0;34m\u001b[0m\u001b[0m\n\u001b[0m\u001b[1;32m     11\u001b[0m     \u001b[0;32melse\u001b[0m\u001b[0;34m:\u001b[0m\u001b[0;34m\u001b[0m\u001b[0;34m\u001b[0m\u001b[0m\n\u001b[1;32m     12\u001b[0m         \u001b[0;32mreturn\u001b[0m \u001b[0mbinary\u001b[0m\u001b[0;34m(\u001b[0m\u001b[0marray\u001b[0m\u001b[0;34m[\u001b[0m\u001b[0mmid\u001b[0m\u001b[0;34m:\u001b[0m\u001b[0;34m]\u001b[0m\u001b[0;34m,\u001b[0m\u001b[0mx\u001b[0m\u001b[0;34m)\u001b[0m\u001b[0;34m\u001b[0m\u001b[0;34m\u001b[0m\u001b[0m\n",
      "\u001b[0;32m/var/folders/c2/8w8zm3y54dv4brkh8h3y2_k80000gn/T/ipykernel_1929/125318921.py\u001b[0m in \u001b[0;36mbinary\u001b[0;34m(array, x)\u001b[0m\n\u001b[1;32m      8\u001b[0m         \u001b[0;32mreturn\u001b[0m \u001b[0mmid\u001b[0m\u001b[0;34m\u001b[0m\u001b[0;34m\u001b[0m\u001b[0m\n\u001b[1;32m      9\u001b[0m     \u001b[0;32melif\u001b[0m \u001b[0marray\u001b[0m\u001b[0;34m[\u001b[0m\u001b[0mmid\u001b[0m\u001b[0;34m]\u001b[0m\u001b[0;34m<\u001b[0m\u001b[0mx\u001b[0m\u001b[0;34m:\u001b[0m\u001b[0;34m\u001b[0m\u001b[0;34m\u001b[0m\u001b[0m\n\u001b[0;32m---> 10\u001b[0;31m         \u001b[0;32mreturn\u001b[0m \u001b[0mbinary\u001b[0m\u001b[0;34m(\u001b[0m\u001b[0marray\u001b[0m\u001b[0;34m[\u001b[0m\u001b[0;34m:\u001b[0m\u001b[0mmid\u001b[0m\u001b[0;34m]\u001b[0m\u001b[0;34m,\u001b[0m\u001b[0mx\u001b[0m\u001b[0;34m)\u001b[0m\u001b[0;34m\u001b[0m\u001b[0;34m\u001b[0m\u001b[0m\n\u001b[0m\u001b[1;32m     11\u001b[0m     \u001b[0;32melse\u001b[0m\u001b[0;34m:\u001b[0m\u001b[0;34m\u001b[0m\u001b[0;34m\u001b[0m\u001b[0m\n\u001b[1;32m     12\u001b[0m         \u001b[0;32mreturn\u001b[0m \u001b[0mbinary\u001b[0m\u001b[0;34m(\u001b[0m\u001b[0marray\u001b[0m\u001b[0;34m[\u001b[0m\u001b[0mmid\u001b[0m\u001b[0;34m:\u001b[0m\u001b[0;34m]\u001b[0m\u001b[0;34m,\u001b[0m\u001b[0mx\u001b[0m\u001b[0;34m)\u001b[0m\u001b[0;34m\u001b[0m\u001b[0;34m\u001b[0m\u001b[0m\n",
      "\u001b[0;32m/var/folders/c2/8w8zm3y54dv4brkh8h3y2_k80000gn/T/ipykernel_1929/125318921.py\u001b[0m in \u001b[0;36mbinary\u001b[0;34m(array, x)\u001b[0m\n\u001b[1;32m      8\u001b[0m         \u001b[0;32mreturn\u001b[0m \u001b[0mmid\u001b[0m\u001b[0;34m\u001b[0m\u001b[0;34m\u001b[0m\u001b[0m\n\u001b[1;32m      9\u001b[0m     \u001b[0;32melif\u001b[0m \u001b[0marray\u001b[0m\u001b[0;34m[\u001b[0m\u001b[0mmid\u001b[0m\u001b[0;34m]\u001b[0m\u001b[0;34m<\u001b[0m\u001b[0mx\u001b[0m\u001b[0;34m:\u001b[0m\u001b[0;34m\u001b[0m\u001b[0;34m\u001b[0m\u001b[0m\n\u001b[0;32m---> 10\u001b[0;31m         \u001b[0;32mreturn\u001b[0m \u001b[0mbinary\u001b[0m\u001b[0;34m(\u001b[0m\u001b[0marray\u001b[0m\u001b[0;34m[\u001b[0m\u001b[0;34m:\u001b[0m\u001b[0mmid\u001b[0m\u001b[0;34m]\u001b[0m\u001b[0;34m,\u001b[0m\u001b[0mx\u001b[0m\u001b[0;34m)\u001b[0m\u001b[0;34m\u001b[0m\u001b[0;34m\u001b[0m\u001b[0m\n\u001b[0m\u001b[1;32m     11\u001b[0m     \u001b[0;32melse\u001b[0m\u001b[0;34m:\u001b[0m\u001b[0;34m\u001b[0m\u001b[0;34m\u001b[0m\u001b[0m\n\u001b[1;32m     12\u001b[0m         \u001b[0;32mreturn\u001b[0m \u001b[0mbinary\u001b[0m\u001b[0;34m(\u001b[0m\u001b[0marray\u001b[0m\u001b[0;34m[\u001b[0m\u001b[0mmid\u001b[0m\u001b[0;34m:\u001b[0m\u001b[0;34m]\u001b[0m\u001b[0;34m,\u001b[0m\u001b[0mx\u001b[0m\u001b[0;34m)\u001b[0m\u001b[0;34m\u001b[0m\u001b[0;34m\u001b[0m\u001b[0m\n",
      "\u001b[0;32m/var/folders/c2/8w8zm3y54dv4brkh8h3y2_k80000gn/T/ipykernel_1929/125318921.py\u001b[0m in \u001b[0;36mbinary\u001b[0;34m(array, x)\u001b[0m\n\u001b[1;32m      8\u001b[0m         \u001b[0;32mreturn\u001b[0m \u001b[0mmid\u001b[0m\u001b[0;34m\u001b[0m\u001b[0;34m\u001b[0m\u001b[0m\n\u001b[1;32m      9\u001b[0m     \u001b[0;32melif\u001b[0m \u001b[0marray\u001b[0m\u001b[0;34m[\u001b[0m\u001b[0mmid\u001b[0m\u001b[0;34m]\u001b[0m\u001b[0;34m<\u001b[0m\u001b[0mx\u001b[0m\u001b[0;34m:\u001b[0m\u001b[0;34m\u001b[0m\u001b[0;34m\u001b[0m\u001b[0m\n\u001b[0;32m---> 10\u001b[0;31m         \u001b[0;32mreturn\u001b[0m \u001b[0mbinary\u001b[0m\u001b[0;34m(\u001b[0m\u001b[0marray\u001b[0m\u001b[0;34m[\u001b[0m\u001b[0;34m:\u001b[0m\u001b[0mmid\u001b[0m\u001b[0;34m]\u001b[0m\u001b[0;34m,\u001b[0m\u001b[0mx\u001b[0m\u001b[0;34m)\u001b[0m\u001b[0;34m\u001b[0m\u001b[0;34m\u001b[0m\u001b[0m\n\u001b[0m\u001b[1;32m     11\u001b[0m     \u001b[0;32melse\u001b[0m\u001b[0;34m:\u001b[0m\u001b[0;34m\u001b[0m\u001b[0;34m\u001b[0m\u001b[0m\n\u001b[1;32m     12\u001b[0m         \u001b[0;32mreturn\u001b[0m \u001b[0mbinary\u001b[0m\u001b[0;34m(\u001b[0m\u001b[0marray\u001b[0m\u001b[0;34m[\u001b[0m\u001b[0mmid\u001b[0m\u001b[0;34m:\u001b[0m\u001b[0;34m]\u001b[0m\u001b[0;34m,\u001b[0m\u001b[0mx\u001b[0m\u001b[0;34m)\u001b[0m\u001b[0;34m\u001b[0m\u001b[0;34m\u001b[0m\u001b[0m\n",
      "\u001b[0;32m/var/folders/c2/8w8zm3y54dv4brkh8h3y2_k80000gn/T/ipykernel_1929/125318921.py\u001b[0m in \u001b[0;36mbinary\u001b[0;34m(array, x)\u001b[0m\n\u001b[1;32m      5\u001b[0m         \u001b[0;32mreturn\u001b[0m \u001b[0marray\u001b[0m\u001b[0;34m\u001b[0m\u001b[0;34m\u001b[0m\u001b[0m\n\u001b[1;32m      6\u001b[0m     \u001b[0mmid\u001b[0m\u001b[0;34m=\u001b[0m\u001b[0mlen\u001b[0m\u001b[0;34m(\u001b[0m\u001b[0marray\u001b[0m\u001b[0;34m)\u001b[0m\u001b[0;34m//\u001b[0m\u001b[0;36m2\u001b[0m\u001b[0;34m\u001b[0m\u001b[0;34m\u001b[0m\u001b[0m\n\u001b[0;32m----> 7\u001b[0;31m     \u001b[0;32mif\u001b[0m \u001b[0marray\u001b[0m\u001b[0;34m[\u001b[0m\u001b[0mmid\u001b[0m\u001b[0;34m]\u001b[0m\u001b[0;34m==\u001b[0m\u001b[0mx\u001b[0m\u001b[0;34m:\u001b[0m\u001b[0;34m\u001b[0m\u001b[0;34m\u001b[0m\u001b[0m\n\u001b[0m\u001b[1;32m      8\u001b[0m         \u001b[0;32mreturn\u001b[0m \u001b[0mmid\u001b[0m\u001b[0;34m\u001b[0m\u001b[0;34m\u001b[0m\u001b[0m\n\u001b[1;32m      9\u001b[0m     \u001b[0;32melif\u001b[0m \u001b[0marray\u001b[0m\u001b[0;34m[\u001b[0m\u001b[0mmid\u001b[0m\u001b[0;34m]\u001b[0m\u001b[0;34m<\u001b[0m\u001b[0mx\u001b[0m\u001b[0;34m:\u001b[0m\u001b[0;34m\u001b[0m\u001b[0;34m\u001b[0m\u001b[0m\n",
      "\u001b[0;31mIndexError\u001b[0m: list index out of range"
     ]
    }
   ],
   "source": [
    "binary(array,x)"
   ]
  },
  {
   "cell_type": "code",
   "execution_count": 40,
   "id": "99305b27",
   "metadata": {},
   "outputs": [
    {
     "data": {
      "text/plain": [
       "3"
      ]
     },
     "execution_count": 40,
     "metadata": {},
     "output_type": "execute_result"
    }
   ],
   "source": [
    "def binarySearch(arr, l, r, x):\n",
    " \n",
    "    while l <= r:\n",
    " \n",
    "        mid = l + (r - l) // 2;\n",
    "         \n",
    "        # Check if x is present at mid\n",
    "        if arr[mid] == x:\n",
    "            return mid\n",
    " \n",
    "        # If x is greater, ignore left half\n",
    "        elif arr[mid] < x:\n",
    "            l = mid + 1\n",
    " \n",
    "        # If x is smaller, ignore right half\n",
    "        else:\n",
    "            r = mid - 1\n",
    "     \n",
    "    # If we reach here, then the element\n",
    "    # was not present\n",
    "    return -1\n",
    " \n",
    "# Driver Code\n",
    "arr = [ 2, 3, 4, 10, 40 ]\n",
    "x = 10\n",
    "binarySearch(arr,0,4,x)"
   ]
  },
  {
   "cell_type": "code",
   "execution_count": 42,
   "id": "4e6288d5",
   "metadata": {},
   "outputs": [
    {
     "ename": "KeyboardInterrupt",
     "evalue": "",
     "output_type": "error",
     "traceback": [
      "\u001b[0;31m---------------------------------------------------------------------------\u001b[0m",
      "\u001b[0;31mKeyboardInterrupt\u001b[0m                         Traceback (most recent call last)",
      "\u001b[0;32m/var/folders/c2/8w8zm3y54dv4brkh8h3y2_k80000gn/T/ipykernel_1929/3800270770.py\u001b[0m in \u001b[0;36m<module>\u001b[0;34m\u001b[0m\n\u001b[1;32m     16\u001b[0m \u001b[0mx\u001b[0m \u001b[0;34m=\u001b[0m \u001b[0;36m10\u001b[0m\u001b[0;34m\u001b[0m\u001b[0;34m\u001b[0m\u001b[0m\n\u001b[1;32m     17\u001b[0m \u001b[0;34m\u001b[0m\u001b[0m\n\u001b[0;32m---> 18\u001b[0;31m \u001b[0mbinarysearch\u001b[0m\u001b[0;34m(\u001b[0m\u001b[0marr\u001b[0m\u001b[0;34m,\u001b[0m\u001b[0mx\u001b[0m\u001b[0;34m)\u001b[0m\u001b[0;34m\u001b[0m\u001b[0;34m\u001b[0m\u001b[0m\n\u001b[0m",
      "\u001b[0;32m/var/folders/c2/8w8zm3y54dv4brkh8h3y2_k80000gn/T/ipykernel_1929/3800270770.py\u001b[0m in \u001b[0;36mbinarysearch\u001b[0;34m(arr, x)\u001b[0m\n\u001b[1;32m      6\u001b[0m             \u001b[0;32mif\u001b[0m \u001b[0marr\u001b[0m\u001b[0;34m[\u001b[0m\u001b[0mmid\u001b[0m\u001b[0;34m]\u001b[0m\u001b[0;34m==\u001b[0m\u001b[0mx\u001b[0m\u001b[0;34m:\u001b[0m\u001b[0;34m\u001b[0m\u001b[0;34m\u001b[0m\u001b[0m\n\u001b[1;32m      7\u001b[0m                 \u001b[0;32mreturn\u001b[0m \u001b[0mmid\u001b[0m\u001b[0;34m\u001b[0m\u001b[0;34m\u001b[0m\u001b[0m\n\u001b[0;32m----> 8\u001b[0;31m             \u001b[0;32melif\u001b[0m \u001b[0marr\u001b[0m\u001b[0;34m[\u001b[0m\u001b[0mmid\u001b[0m\u001b[0;34m]\u001b[0m\u001b[0;34m<\u001b[0m\u001b[0mx\u001b[0m\u001b[0;34m:\u001b[0m\u001b[0;34m\u001b[0m\u001b[0;34m\u001b[0m\u001b[0m\n\u001b[0m\u001b[1;32m      9\u001b[0m                 \u001b[0mtemp\u001b[0m\u001b[0;34m=\u001b[0m\u001b[0marr\u001b[0m\u001b[0;34m[\u001b[0m\u001b[0;34m:\u001b[0m\u001b[0mmid\u001b[0m\u001b[0;34m]\u001b[0m\u001b[0;34m\u001b[0m\u001b[0;34m\u001b[0m\u001b[0m\n\u001b[1;32m     10\u001b[0m             \u001b[0;32melse\u001b[0m\u001b[0;34m:\u001b[0m\u001b[0;34m\u001b[0m\u001b[0;34m\u001b[0m\u001b[0m\n",
      "\u001b[0;31mKeyboardInterrupt\u001b[0m: "
     ]
    }
   ],
   "source": [
    "def bina(array,x):\n",
    "    l=0\n",
    "    while l<len(array):\n",
    "        if l>"
   ]
  },
  {
   "cell_type": "code",
   "execution_count": 49,
   "id": "5f236ead",
   "metadata": {},
   "outputs": [
    {
     "name": "stdout",
     "output_type": "stream",
     "text": [
      "-3\n"
     ]
    }
   ],
   "source": [
    "operations = [\"--X\",\"X++\",\"X++\"]\n",
    "x=0\n",
    "for i in range(len(operations)):\n",
    "    if i==\"--X\" or \"X--\":\n",
    "        x=x-1\n",
    "    else:\n",
    "        x=x+1\n",
    "print(x)"
   ]
  },
  {
   "cell_type": "code",
   "execution_count": null,
   "id": "d9dd0a77",
   "metadata": {},
   "outputs": [],
   "source": []
  },
  {
   "cell_type": "code",
   "execution_count": null,
   "id": "a8ec73f1",
   "metadata": {},
   "outputs": [],
   "source": []
  },
  {
   "cell_type": "code",
   "execution_count": null,
   "id": "a3ef9f31",
   "metadata": {},
   "outputs": [],
   "source": []
  },
  {
   "cell_type": "code",
   "execution_count": null,
   "id": "039df7c3",
   "metadata": {},
   "outputs": [],
   "source": []
  },
  {
   "cell_type": "code",
   "execution_count": null,
   "id": "255f0ee3",
   "metadata": {},
   "outputs": [],
   "source": []
  },
  {
   "cell_type": "code",
   "execution_count": null,
   "id": "37674e94",
   "metadata": {},
   "outputs": [],
   "source": []
  },
  {
   "cell_type": "code",
   "execution_count": null,
   "id": "95f810b5",
   "metadata": {},
   "outputs": [],
   "source": []
  },
  {
   "cell_type": "code",
   "execution_count": null,
   "id": "3743625f",
   "metadata": {},
   "outputs": [],
   "source": []
  },
  {
   "cell_type": "code",
   "execution_count": null,
   "id": "faafbb20",
   "metadata": {},
   "outputs": [],
   "source": []
  },
  {
   "cell_type": "code",
   "execution_count": null,
   "id": "d4d5ebe5",
   "metadata": {},
   "outputs": [],
   "source": []
  },
  {
   "cell_type": "code",
   "execution_count": null,
   "id": "598e7f7b",
   "metadata": {},
   "outputs": [],
   "source": []
  },
  {
   "cell_type": "code",
   "execution_count": null,
   "id": "1022e893",
   "metadata": {},
   "outputs": [],
   "source": []
  },
  {
   "cell_type": "code",
   "execution_count": null,
   "id": "48f0b35d",
   "metadata": {},
   "outputs": [],
   "source": []
  },
  {
   "cell_type": "code",
   "execution_count": null,
   "id": "00f82c11",
   "metadata": {},
   "outputs": [],
   "source": []
  },
  {
   "cell_type": "code",
   "execution_count": null,
   "id": "5d0c4bd3",
   "metadata": {},
   "outputs": [],
   "source": []
  },
  {
   "cell_type": "code",
   "execution_count": null,
   "id": "cea6b1be",
   "metadata": {},
   "outputs": [],
   "source": []
  },
  {
   "cell_type": "code",
   "execution_count": null,
   "id": "9c026d82",
   "metadata": {},
   "outputs": [],
   "source": []
  },
  {
   "cell_type": "code",
   "execution_count": null,
   "id": "81a905ab",
   "metadata": {},
   "outputs": [],
   "source": []
  },
  {
   "cell_type": "code",
   "execution_count": null,
   "id": "922d1d6e",
   "metadata": {},
   "outputs": [],
   "source": []
  },
  {
   "cell_type": "code",
   "execution_count": null,
   "id": "f1673b60",
   "metadata": {},
   "outputs": [],
   "source": []
  },
  {
   "cell_type": "code",
   "execution_count": null,
   "id": "f748c993",
   "metadata": {},
   "outputs": [],
   "source": []
  },
  {
   "cell_type": "code",
   "execution_count": null,
   "id": "78adb626",
   "metadata": {},
   "outputs": [],
   "source": []
  },
  {
   "cell_type": "code",
   "execution_count": null,
   "id": "7420ff9b",
   "metadata": {},
   "outputs": [],
   "source": []
  },
  {
   "cell_type": "code",
   "execution_count": null,
   "id": "ef281ef6",
   "metadata": {},
   "outputs": [],
   "source": []
  }
 ],
 "metadata": {
  "kernelspec": {
   "display_name": "Python 3 (ipykernel)",
   "language": "python",
   "name": "python3"
  },
  "language_info": {
   "codemirror_mode": {
    "name": "ipython",
    "version": 3
   },
   "file_extension": ".py",
   "mimetype": "text/x-python",
   "name": "python",
   "nbconvert_exporter": "python",
   "pygments_lexer": "ipython3",
   "version": "3.9.7"
  }
 },
 "nbformat": 4,
 "nbformat_minor": 5
}

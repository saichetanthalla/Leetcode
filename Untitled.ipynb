{
 "cells": [
  {
   "cell_type": "code",
   "execution_count": 11,
   "id": "61c916e0",
   "metadata": {},
   "outputs": [
    {
     "data": {
      "text/plain": [
       "'XYZA'"
      ]
     },
     "execution_count": 11,
     "metadata": {},
     "output_type": "execute_result"
    }
   ],
   "source": [
    "def cryp(stri,k):\n",
    "    k=k%26\n",
    "    out=''\n",
    "    for i in stri:\n",
    "        new_val=ord(i)-k\n",
    "        if new_val<65:\n",
    "            new_val+=26\n",
    "        new_char=chr(new_val)\n",
    "        out=out+new_char\n",
    "    return out\n",
    "cryp('ABCD',3)"
   ]
  },
  {
   "cell_type": "code",
   "execution_count": 9,
   "id": "e69cdf3c",
   "metadata": {},
   "outputs": [
    {
     "data": {
      "text/plain": [
       "3"
      ]
     },
     "execution_count": 9,
     "metadata": {},
     "output_type": "execute_result"
    }
   ],
   "source": [
    "def count(stri):\n",
    "    prev=0\n",
    "    ans=0\n",
    "    cur=1                                \n",
    "    for i in range(1,len(stri)):\n",
    "        if stri[i-1]!=stri[i]:\n",
    "            ans+=min(prev,cur)\n",
    "            prev=cur\n",
    "            cur=1\n",
    "        else:\n",
    "            cur+=1\n",
    "    return ans+min(cur,prev)\n",
    "count('00000111')"
   ]
  },
  {
   "cell_type": "code",
   "execution_count": null,
   "id": "3dc73f45",
   "metadata": {},
   "outputs": [],
   "source": []
  }
 ],
 "metadata": {
  "kernelspec": {
   "display_name": "Python 3 (ipykernel)",
   "language": "python",
   "name": "python3"
  },
  "language_info": {
   "codemirror_mode": {
    "name": "ipython",
    "version": 3
   },
   "file_extension": ".py",
   "mimetype": "text/x-python",
   "name": "python",
   "nbconvert_exporter": "python",
   "pygments_lexer": "ipython3",
   "version": "3.9.7"
  }
 },
 "nbformat": 4,
 "nbformat_minor": 5
}
